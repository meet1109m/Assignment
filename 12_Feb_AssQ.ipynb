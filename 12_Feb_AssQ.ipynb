{
 "cells": [
  {
   "cell_type": "markdown",
   "id": "edb5c6e4",
   "metadata": {},
   "source": [
    "Q1. What is an Exception in python? Write the difference between Exceptions and syntax errors"
   ]
  },
  {
   "cell_type": "code",
   "execution_count": null,
   "id": "65319569",
   "metadata": {},
   "outputs": [],
   "source": []
  },
  {
   "cell_type": "markdown",
   "id": "d3290e99",
   "metadata": {},
   "source": [
    "An exception in Python is an event that occurs during the execution of a program and disrupts the normal flow of the program's instructions. It is a way to handle and recover from errors or exceptional conditions that may arise while the program is running."
   ]
  },
  {
   "cell_type": "markdown",
   "id": "8a5f9ff8",
   "metadata": {},
   "source": [
    "The difference between exceptions and syntax errors in Python:\n",
    "\n",
    "Syntax Errors:\n",
    "\n",
    "- Syntax errors occur during the parsing phase of the program, before its execution.\n",
    "- They are caused by violations of the Python language's syntax rules.\n",
    "- Common examples of syntax errors include misspelled keywords, missing colons, incorrect indentation, or mismatched parentheses.\n",
    "- Syntax errors prevent the program from running at all.\n",
    "- The Python interpreter usually provides a specific error message pointing to the line and location where the syntax error occurred.\n",
    "- Syntax errors need to be fixed before the program can be executed successfully.\n",
    "\n",
    "Exceptions:\n",
    "\n",
    "- Exceptions occur during the execution phase of the program.\n",
    "- They are caused by exceptional conditions or errors that arise while the program is running, such as invalid user input, file I/O errors, or arithmetic errors.\n",
    "- Examples of exceptions in Python include TypeError, ValueError, FileNotFoundError, and ZeroDivisionError.\n",
    "- Exceptions can be anticipated and handled using exception handling mechanisms like try-except blocks.\n",
    "- When an exception is raised, the program's normal flow is disrupted, and the interpreter looks for an appropriate exception handler to handle the exception.\n",
    "- Exception handling allows you to gracefully recover from errors, handle exceptional cases, or perform necessary cleanup operations.\n",
    "- If an exception is not caught and handled, it propagates up the call stack until it reaches the default exception handler, which terminates the program and displays an error message."
   ]
  },
  {
   "cell_type": "code",
   "execution_count": null,
   "id": "eef6f9ed",
   "metadata": {},
   "outputs": [],
   "source": []
  },
  {
   "cell_type": "markdown",
   "id": "039c7954",
   "metadata": {},
   "source": [
    "Q2. What happens when an exception is not handled? Explain with an example"
   ]
  },
  {
   "cell_type": "code",
   "execution_count": null,
   "id": "5906c302",
   "metadata": {},
   "outputs": [],
   "source": []
  },
  {
   "cell_type": "markdown",
   "id": "6abc31b4",
   "metadata": {},
   "source": [
    "When an exception is not handled, it propagates up the call stack until it reaches the default exception handler, which terminates the program and displays an error message. This process is known as \"unhandled exception\" or \"uncaught exception.\""
   ]
  },
  {
   "cell_type": "code",
   "execution_count": 2,
   "id": "7358edd2",
   "metadata": {},
   "outputs": [],
   "source": [
    "def divide_numbers(a, b):\n",
    "    return a/b"
   ]
  },
  {
   "cell_type": "code",
   "execution_count": 3,
   "id": "7aeacb7f",
   "metadata": {},
   "outputs": [
    {
     "ename": "ZeroDivisionError",
     "evalue": "division by zero",
     "output_type": "error",
     "traceback": [
      "\u001b[1;31m---------------------------------------------------------------------------\u001b[0m",
      "\u001b[1;31mZeroDivisionError\u001b[0m                         Traceback (most recent call last)",
      "Cell \u001b[1;32mIn [3], line 1\u001b[0m\n\u001b[1;32m----> 1\u001b[0m \u001b[43mdivide_numbers\u001b[49m\u001b[43m(\u001b[49m\u001b[38;5;241;43m10\u001b[39;49m\u001b[43m,\u001b[49m\u001b[38;5;241;43m0\u001b[39;49m\u001b[43m)\u001b[49m\n",
      "Cell \u001b[1;32mIn [2], line 2\u001b[0m, in \u001b[0;36mdivide_numbers\u001b[1;34m(a, b)\u001b[0m\n\u001b[0;32m      1\u001b[0m \u001b[38;5;28;01mdef\u001b[39;00m \u001b[38;5;21mdivide_numbers\u001b[39m(a, b):\n\u001b[1;32m----> 2\u001b[0m     \u001b[38;5;28;01mreturn\u001b[39;00m \u001b[43ma\u001b[49m\u001b[38;5;241;43m/\u001b[39;49m\u001b[43mb\u001b[49m\n",
      "\u001b[1;31mZeroDivisionError\u001b[0m: division by zero"
     ]
    }
   ],
   "source": [
    "divide_numbers(10,0)"
   ]
  },
  {
   "cell_type": "code",
   "execution_count": null,
   "id": "ab52a7c2",
   "metadata": {},
   "outputs": [],
   "source": []
  },
  {
   "cell_type": "markdown",
   "id": "b96ca296",
   "metadata": {},
   "source": [
    "Q3. Which Python statements are used to catch and handle exceptions? Explain with an example."
   ]
  },
  {
   "cell_type": "code",
   "execution_count": null,
   "id": "1235ace6",
   "metadata": {},
   "outputs": [],
   "source": []
  },
  {
   "cell_type": "markdown",
   "id": "ca5f2ed7",
   "metadata": {},
   "source": [
    "To catch and handle exceptions in Python, we use the try-except statement. The try block contains the code that might raise an exception, and the except block specifies the actions to be taken when a specific exception occurs."
   ]
  },
  {
   "cell_type": "code",
   "execution_count": 7,
   "id": "aaf33c86",
   "metadata": {},
   "outputs": [],
   "source": [
    "def divide_numbers(a, b):       \n",
    "    try:\n",
    "         return a/b\n",
    "\n",
    "    except ZeroDivisionError:\n",
    "        print(\"Error: Division by zero is not allowed.\")"
   ]
  },
  {
   "cell_type": "code",
   "execution_count": 9,
   "id": "1b409e97",
   "metadata": {},
   "outputs": [
    {
     "name": "stdout",
     "output_type": "stream",
     "text": [
      "Error: Division by zero is not allowed.\n"
     ]
    }
   ],
   "source": [
    "divide_numbers(10,0)"
   ]
  },
  {
   "cell_type": "code",
   "execution_count": null,
   "id": "78dc00a9",
   "metadata": {},
   "outputs": [],
   "source": []
  },
  {
   "cell_type": "markdown",
   "id": "b6c12e26",
   "metadata": {},
   "source": [
    "Q4. Explain with an example:\n",
    "\n",
    "a . try and else\n",
    "\n",
    "b. finally \n",
    "\n",
    "c. raise"
   ]
  },
  {
   "cell_type": "code",
   "execution_count": 11,
   "id": "dc8be803",
   "metadata": {},
   "outputs": [
    {
     "name": "stdout",
     "output_type": "stream",
     "text": [
      "Error: Division by zero is not allowed.\n"
     ]
    }
   ],
   "source": [
    "# try and else\n",
    "\n",
    "def divide_numbers(a, b):\n",
    "    try:\n",
    "        result = a / b\n",
    "    except ZeroDivisionError:\n",
    "        print(\"Error: Division by zero is not allowed.\")\n",
    "    else:\n",
    "        print(\"Result:\", result)\n",
    "\n",
    "divide_numbers(10, 0)"
   ]
  },
  {
   "cell_type": "code",
   "execution_count": 12,
   "id": "76f4a278",
   "metadata": {},
   "outputs": [
    {
     "name": "stdout",
     "output_type": "stream",
     "text": [
      "Result: 5.0\n"
     ]
    }
   ],
   "source": [
    "divide_numbers(10,2)"
   ]
  },
  {
   "cell_type": "code",
   "execution_count": 16,
   "id": "8c3c6d9f",
   "metadata": {},
   "outputs": [
    {
     "name": "stdout",
     "output_type": "stream",
     "text": [
      "Result: 5.0\n",
      "Finally block executed.\n"
     ]
    }
   ],
   "source": [
    "# finally\n",
    "\n",
    "def divide_numbers(a, b):\n",
    "    try:\n",
    "        result = a / b\n",
    "        print(\"Result:\", result)\n",
    "    except ZeroDivisionError:\n",
    "        print(\"Error: Division by zero is not allowed.\")\n",
    "    finally:\n",
    "        print(\"Finally block executed.\")\n",
    "\n",
    "divide_numbers(10, 2)"
   ]
  },
  {
   "cell_type": "code",
   "execution_count": 21,
   "id": "0f0873ef",
   "metadata": {},
   "outputs": [],
   "source": [
    "# raise\n",
    "\n",
    "def validate_age(age):\n",
    "    if age < 0:\n",
    "        raise ValueError(\"Invalid age: Age cannot be negative.\")\n",
    "    elif age < 18:\n",
    "        raise ValueError(\"Invalid age: Must be 18 or older.\")\n",
    "    else:\n",
    "        print(\"Age is valid.\")"
   ]
  },
  {
   "cell_type": "code",
   "execution_count": 22,
   "id": "35e94059",
   "metadata": {},
   "outputs": [
    {
     "name": "stdout",
     "output_type": "stream",
     "text": [
      "Invalid age: Age cannot be negative.\n"
     ]
    }
   ],
   "source": [
    "try:\n",
    "    validate_age(-25)\n",
    "except ValueError as e:\n",
    "    print(e)"
   ]
  },
  {
   "cell_type": "code",
   "execution_count": null,
   "id": "812f062c",
   "metadata": {},
   "outputs": [],
   "source": []
  },
  {
   "cell_type": "markdown",
   "id": "498fb15b",
   "metadata": {},
   "source": [
    "Q5. What are Custom Exceptions in python? Why do we need Custom Exceptions?  Explain with an example"
   ]
  },
  {
   "cell_type": "code",
   "execution_count": null,
   "id": "0b778f0b",
   "metadata": {},
   "outputs": [],
   "source": []
  },
  {
   "cell_type": "markdown",
   "id": "cea0fd21",
   "metadata": {},
   "source": [
    "Custom exceptions in Python are user-defined exceptions that allow you to create your own specific exception types. They are derived from the built-in Exception class or its subclasses, providing a way to handle exceptional cases that are unique to your application or domain."
   ]
  },
  {
   "cell_type": "markdown",
   "id": "a37d3071",
   "metadata": {},
   "source": [
    "We need custom exceptions for the following reasons:\n",
    "\n",
    "- Specific Exception Handling: Custom exceptions allow us to differentiate and handle specific exceptional cases in a more granular way. For example, InsufficientFundsError can be caught separately from other exceptions, enabling specialized error handling for insufficient funds scenarios.\n",
    "\n",
    "- Code Clarity and Readability: By creating custom exceptions, we can give meaningful and self-explanatory names to exceptional conditions, making the code more readable and understandable for developers.\n",
    "\n",
    "- Modularity and Reusability: Custom exceptions can be reused in multiple parts of the codebase. For instance, the BankAccountError hierarchy can be used in various bank-related functions and classes to handle account-related exceptions consistently."
   ]
  },
  {
   "cell_type": "code",
   "execution_count": 23,
   "id": "cab58520",
   "metadata": {},
   "outputs": [],
   "source": [
    "class CustomError(Exception):\n",
    "    pass\n",
    "\n",
    "class MyCustomException(CustomError):\n",
    "    pass\n",
    "\n",
    "def process_data(data):\n",
    "    if data == 'error':\n",
    "        raise MyCustomException(\"Custom error occurred during data processing.\")"
   ]
  },
  {
   "cell_type": "code",
   "execution_count": 24,
   "id": "420dbce4",
   "metadata": {},
   "outputs": [
    {
     "name": "stdout",
     "output_type": "stream",
     "text": [
      "Error: Custom error occurred during data processing.\n"
     ]
    }
   ],
   "source": [
    "try:\n",
    "    process_data('error')\n",
    "except CustomError as e:\n",
    "    print(\"Error:\", str(e))"
   ]
  },
  {
   "cell_type": "code",
   "execution_count": null,
   "id": "216bffd3",
   "metadata": {},
   "outputs": [],
   "source": []
  },
  {
   "cell_type": "markdown",
   "id": "40f43c93",
   "metadata": {},
   "source": [
    "Q6. Create custom exception class. Use this class to handle an exception."
   ]
  },
  {
   "cell_type": "code",
   "execution_count": 25,
   "id": "b05b963e",
   "metadata": {},
   "outputs": [],
   "source": [
    "class CustomException(Exception):\n",
    "    pass\n",
    "\n",
    "def divide_numbers(a, b):\n",
    "    try:\n",
    "        if b == 0:\n",
    "            raise CustomException(\"Cannot divide by zero.\")\n",
    "        result = a / b\n",
    "        print(\"Result:\", result)\n",
    "    except CustomException as e:\n",
    "        print(\"Error:\", str(e))"
   ]
  },
  {
   "cell_type": "code",
   "execution_count": 26,
   "id": "3d152074",
   "metadata": {},
   "outputs": [
    {
     "name": "stdout",
     "output_type": "stream",
     "text": [
      "Error: Cannot divide by zero.\n"
     ]
    }
   ],
   "source": [
    "divide_numbers(10, 0)"
   ]
  },
  {
   "cell_type": "code",
   "execution_count": null,
   "id": "6f2db579",
   "metadata": {},
   "outputs": [],
   "source": []
  }
 ],
 "metadata": {
  "kernelspec": {
   "display_name": "Python 3 (ipykernel)",
   "language": "python",
   "name": "python3"
  },
  "language_info": {
   "codemirror_mode": {
    "name": "ipython",
    "version": 3
   },
   "file_extension": ".py",
   "mimetype": "text/x-python",
   "name": "python",
   "nbconvert_exporter": "python",
   "pygments_lexer": "ipython3",
   "version": "3.11.0"
  }
 },
 "nbformat": 4,
 "nbformat_minor": 5
}
