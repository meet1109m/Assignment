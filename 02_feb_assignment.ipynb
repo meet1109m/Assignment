{
 "cells": [
  {
   "cell_type": "markdown",
   "id": "52a8e612-41a2-492d-8b0f-7e0c6daffe36",
   "metadata": {},
   "source": [
    "Q1. Explain with an example each when to use a for loop and a while loop."
   ]
  },
  {
   "cell_type": "raw",
   "id": "00c5c41f-211a-4681-a403-5d90e85ee2f8",
   "metadata": {},
   "source": [
    "A for loop is generally used when you know the exact number of iterations you want to perform, whereas a while loop is used when you want to repeat a block of code until a certain condition is met."
   ]
  },
  {
   "cell_type": "code",
   "execution_count": 1,
   "id": "5fe880cd-b0a1-41b9-9045-7b22d62c5256",
   "metadata": {},
   "outputs": [
    {
     "name": "stdout",
     "output_type": "stream",
     "text": [
      "1\n",
      "2\n",
      "3\n",
      "4\n",
      "5\n"
     ]
    }
   ],
   "source": [
    "num = [1, 2, 3, 4, 5]\n",
    "for i in num:\n",
    "    print(i)"
   ]
  },
  {
   "cell_type": "code",
   "execution_count": 2,
   "id": "6b3a9a4c-154c-46c8-aad9-5abb2b1b216b",
   "metadata": {},
   "outputs": [
    {
     "name": "stdout",
     "output_type": "stream",
     "text": [
      "1\n",
      "2\n",
      "3\n",
      "4\n",
      "5\n",
      "6\n",
      "7\n",
      "8\n",
      "9\n",
      "10\n"
     ]
    }
   ],
   "source": [
    "num = 0\n",
    "while num <10:\n",
    "    num = num + 1\n",
    "    print(num)"
   ]
  },
  {
   "cell_type": "code",
   "execution_count": null,
   "id": "3a57a2a2-911f-4044-9150-bc5dda3f0909",
   "metadata": {},
   "outputs": [],
   "source": []
  },
  {
   "cell_type": "markdown",
   "id": "354123c5-11af-43a0-8d64-2f89675df595",
   "metadata": {},
   "source": [
    "Q2.  Write a python program to print the sum and product of the first 10 natural numbers using for  and while loop."
   ]
  },
  {
   "cell_type": "raw",
   "id": "b24c9f40-e033-4786-9d18-0c92eb0d4d13",
   "metadata": {},
   "source": [
    "Usinf for loop"
   ]
  },
  {
   "cell_type": "code",
   "execution_count": 3,
   "id": "04c6d91e-bc85-4ecb-a781-d1852648a0da",
   "metadata": {},
   "outputs": [
    {
     "name": "stdout",
     "output_type": "stream",
     "text": [
      "Sum of the first 10 numbers : 55\n",
      "Product of the first 10 numbers : 3628800\n"
     ]
    }
   ],
   "source": [
    "sum = 0\n",
    "product = 1\n",
    "for i in range(1,11):\n",
    "    sum = sum + i\n",
    "    product = product * i\n",
    "print(\"Sum of the first 10 numbers :\",sum)\n",
    "print(\"Product of the first 10 numbers :\",product)"
   ]
  },
  {
   "cell_type": "raw",
   "id": "470ae7d7-f7de-4397-889e-b10b43533175",
   "metadata": {},
   "source": [
    "Using while loop"
   ]
  },
  {
   "cell_type": "code",
   "execution_count": 4,
   "id": "75dd17f4-fef1-4b87-96a5-0b3e7245d5b0",
   "metadata": {},
   "outputs": [
    {
     "name": "stdout",
     "output_type": "stream",
     "text": [
      "Sum of the first 10 numbers : 55\n",
      "Product of the first 10 numbers : 3628800\n"
     ]
    }
   ],
   "source": [
    "sum = 0\n",
    "product = 1\n",
    "i = 1\n",
    "\n",
    "while i <= 10:\n",
    "    sum = sum + i\n",
    "    product = product * i\n",
    "    i = i + 1\n",
    "print(\"Sum of the first 10 numbers :\",sum)\n",
    "print(\"Product of the first 10 numbers :\",product)"
   ]
  },
  {
   "cell_type": "code",
   "execution_count": null,
   "id": "8dcb0d64-7a7e-48dd-9ab5-f06e94dde0e3",
   "metadata": {},
   "outputs": [],
   "source": []
  },
  {
   "cell_type": "markdown",
   "id": "6069ec04",
   "metadata": {},
   "source": [
    "Q3. Create a python program to compute the electricity bill for a household. \n",
    "The per-unit charges in rupees are as follows: For the first 100 units, the user will be charged Rs. 4.5 per  unit, for the next 100 units, the user will be charged Rs. 6 per unit, and for the next 100 units, the user will  be charged Rs. 10 per unit, After 300 units and above the user will be charged Rs. 20 per unit.\n",
    "\n",
    "You are required to take the units of electricity consumed in a month from the user as input.\n",
    "\n",
    "Your program must pass this test case: when the unit of electricity consumed by the user in a month is  310, the total electricity bill should be 2250.\n"
   ]
  },
  {
   "cell_type": "code",
   "execution_count": 5,
   "id": "67fb7d76",
   "metadata": {},
   "outputs": [
    {
     "name": "stdout",
     "output_type": "stream",
     "text": [
      "Enter the units consumed: 310\n",
      "Electricity bill:  2250.0\n"
     ]
    }
   ],
   "source": [
    "units_consumed = int(input(\"Enter the units consumed: \"))\n",
    "\n",
    "if units_consumed <= 100:\n",
    "    bill_amount = units_consumed * 4.5\n",
    "elif units_consumed <= 200:\n",
    "    bill_amount = 100 * 4.5 + (units_consumed - 100) * 6\n",
    "elif units_consumed <= 300:\n",
    "    bill_amount = 100 * 4.5 + 100 * 6 + (units_consumed - 200) * 10\n",
    "else:\n",
    "    bill_amount = 100 * 4.5 + 100 * 6 + 100 * 10 + (units_consumed - 300) * 20\n",
    "\n",
    "print(f\"Electricity bill: \", bill_amount)\n"
   ]
  },
  {
   "cell_type": "code",
   "execution_count": null,
   "id": "4b85daca",
   "metadata": {},
   "outputs": [],
   "source": []
  },
  {
   "cell_type": "markdown",
   "id": "117a596a",
   "metadata": {},
   "source": [
    "Q4. Create a list of numbers from 1 to 100. Use for loop and while loop to calculate the cube of each  number and if the cube of that number is divisible by 4 or 5 then append that number in a list and print  that list."
   ]
  },
  {
   "cell_type": "raw",
   "id": "28d2bcc2",
   "metadata": {},
   "source": [
    "Using for loop"
   ]
  },
  {
   "cell_type": "code",
   "execution_count": 6,
   "id": "4a4049c0",
   "metadata": {},
   "outputs": [
    {
     "name": "stdout",
     "output_type": "stream",
     "text": [
      "[8, 64, 125, 216, 512, 1000, 1728, 2744, 3375, 4096, 5832, 8000, 10648, 13824, 15625, 17576, 21952, 27000, 32768, 39304, 42875, 46656, 54872, 64000, 74088, 85184, 91125, 97336, 110592, 125000, 140608, 157464, 166375, 175616, 195112, 216000, 238328, 262144, 274625, 287496, 314432, 343000, 373248, 405224, 421875, 438976, 474552, 512000, 551368, 592704, 614125, 636056, 681472, 729000, 778688, 830584, 857375, 884736, 941192, 1000000]\n"
     ]
    }
   ],
   "source": [
    "l = []\n",
    "for i in range(1,101):\n",
    "    cube = i**3\n",
    "    \n",
    "    if cube%4==0 or cube%5==0:\n",
    "        l.append(cube)\n",
    "       \n",
    "print(l)"
   ]
  },
  {
   "cell_type": "raw",
   "id": "f5eb153a",
   "metadata": {},
   "source": [
    "Usinf while loop"
   ]
  },
  {
   "cell_type": "code",
   "execution_count": 7,
   "id": "183e0224",
   "metadata": {},
   "outputs": [
    {
     "name": "stdout",
     "output_type": "stream",
     "text": [
      "[8, 64, 125, 216, 512, 1000, 1728, 2744, 3375, 4096, 5832, 8000, 10648, 13824, 15625, 17576, 21952, 27000, 32768, 39304, 42875, 46656, 54872, 64000, 74088, 85184, 91125, 97336, 110592, 125000, 140608, 157464, 166375, 175616, 195112, 216000, 238328, 262144, 274625, 287496, 314432, 343000, 373248, 405224, 421875, 438976, 474552, 512000, 551368, 592704, 614125, 636056, 681472, 729000, 778688, 830584, 857375, 884736, 941192, 1000000]\n"
     ]
    }
   ],
   "source": [
    "l = []\n",
    "i = 1\n",
    "while i <= 100:\n",
    "    cube = i**3\n",
    "    if cube%4==0 or cube%5==0:\n",
    "        l.append(cube)\n",
    "    i = i + 1\n",
    "print(l)"
   ]
  },
  {
   "cell_type": "code",
   "execution_count": null,
   "id": "15c618bc",
   "metadata": {},
   "outputs": [],
   "source": []
  },
  {
   "cell_type": "markdown",
   "id": "7cf54062",
   "metadata": {},
   "source": [
    "Q5.  Write a program to filter count vowels in the below-given string. \n",
    "string = \"I want to become a data scientist\" \n",
    "\n"
   ]
  },
  {
   "cell_type": "code",
   "execution_count": 8,
   "id": "94c2116f",
   "metadata": {},
   "outputs": [
    {
     "name": "stdout",
     "output_type": "stream",
     "text": [
      "Number of vowels in the given string: 12\n"
     ]
    }
   ],
   "source": [
    "string = \"I want to become a data scientist\"\n",
    "\n",
    "vowels = \"aeiouAEIOU\"\n",
    "count = 0\n",
    "\n",
    "for char in string:\n",
    "    if char in vowels:\n",
    "        count += 1\n",
    "\n",
    "print(\"Number of vowels in the given string:\", count)"
   ]
  },
  {
   "cell_type": "code",
   "execution_count": null,
   "id": "f02194c7",
   "metadata": {},
   "outputs": [],
   "source": []
  }
 ],
 "metadata": {
  "kernelspec": {
   "display_name": "Python 3 (ipykernel)",
   "language": "python",
   "name": "python3"
  },
  "language_info": {
   "codemirror_mode": {
    "name": "ipython",
    "version": 3
   },
   "file_extension": ".py",
   "mimetype": "text/x-python",
   "name": "python",
   "nbconvert_exporter": "python",
   "pygments_lexer": "ipython3",
   "version": "3.11.0"
  }
 },
 "nbformat": 4,
 "nbformat_minor": 5
}
