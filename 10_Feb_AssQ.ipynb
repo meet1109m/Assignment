{
 "cells": [
  {
   "cell_type": "markdown",
   "id": "87d946ff",
   "metadata": {},
   "source": [
    "Q1. Which function is used to open a file? What are the different modes of opening a file? Explain each mode\n",
    "of file opening."
   ]
  },
  {
   "cell_type": "markdown",
   "id": "c2ebf54b",
   "metadata": {},
   "source": [
    "The open() function is used to open a file. It takes two arguments: the file name or path and the mode in which the file should be opened.\n",
    "\n",
    "The different modes of opening a file are:\n",
    "\n",
    "'r' (Read mode): This is the default mode. It is used to open a file for reading. The file pointer is placed at the beginning of the file. If the file does not exist, an FileNotFoundError is raised.\n",
    "\n",
    "'w' (Write mode): This mode is used to open a file for writing. If the file already exists, its contents are truncated. If the file does not exist, a new file is created. The file pointer is placed at the beginning of the file.\n",
    "\n",
    "'a' (Append mode): This mode is used to open a file for appending data. If the file exists, the file pointer is placed at the end of the file, allowing new data to be written at the end. If the file does not exist, a new file is created.\n",
    "\n",
    "'x' (Exclusive creation mode): This mode is used to open a file exclusively for writing. It creates a new file and raises a FileExistsError if the file already exists.\n",
    "\n",
    "'t' (Text mode): This is the default mode. It is used to open a file in text mode, which means the file is read or written as a text file (default encoding is platform-dependent).\n",
    "\n",
    "'b' (Binary mode): This mode is used to open a file in binary mode, which means the file is read or written in binary format.\n",
    "\n",
    "'+' (Read and write mode): This mode allows both reading and writing to a file. For example, 'r+' opens a file for reading and writing."
   ]
  },
  {
   "cell_type": "code",
   "execution_count": 1,
   "id": "0c3a53a3",
   "metadata": {},
   "outputs": [],
   "source": [
    "file = open('filename.txt', 'w')"
   ]
  },
  {
   "cell_type": "code",
   "execution_count": 2,
   "id": "ff6508ca",
   "metadata": {},
   "outputs": [
    {
     "data": {
      "text/plain": [
       "5"
      ]
     },
     "execution_count": 2,
     "metadata": {},
     "output_type": "execute_result"
    }
   ],
   "source": [
    "file.write(\"Hello\")"
   ]
  },
  {
   "cell_type": "code",
   "execution_count": 3,
   "id": "17114302",
   "metadata": {},
   "outputs": [],
   "source": [
    "file.close()"
   ]
  },
  {
   "cell_type": "code",
   "execution_count": 4,
   "id": "9fdf94b6",
   "metadata": {},
   "outputs": [],
   "source": [
    "with open('filename.txt', 'w') as file:\n",
    "    file.write(\"Hello\")"
   ]
  },
  {
   "cell_type": "code",
   "execution_count": null,
   "id": "8ac90c03",
   "metadata": {},
   "outputs": [],
   "source": []
  },
  {
   "cell_type": "markdown",
   "id": "4c5b2950",
   "metadata": {},
   "source": [
    "Q2. Why close() function is used? Why is it important to close a file?"
   ]
  },
  {
   "cell_type": "markdown",
   "id": "e3294993",
   "metadata": {},
   "source": [
    "The close() function is used to close a file that has been opened using the open() function. \n",
    "It is important to close a file to release system resources, ensure data integrity and consistency, prevent resource leaks, and allow other processes to access the file. \n",
    "Closing a file helps maintain program stability and efficient resource utilization."
   ]
  },
  {
   "cell_type": "code",
   "execution_count": null,
   "id": "385e671b",
   "metadata": {},
   "outputs": [],
   "source": []
  },
  {
   "cell_type": "markdown",
   "id": "edb889d9",
   "metadata": {},
   "source": [
    "Q3. Write a python program to create a text file. Write ‘I want to become a Data Scientist’ in that file. Then\n",
    "close the file. Open this file and read the content of the file."
   ]
  },
  {
   "cell_type": "code",
   "execution_count": 5,
   "id": "f5cd1882",
   "metadata": {},
   "outputs": [],
   "source": [
    "with open(\"myfile.txt\", \"w\") as f:\n",
    "    f.write(\"I want to become a Data Scientist\")"
   ]
  },
  {
   "cell_type": "code",
   "execution_count": 6,
   "id": "0dae3fdd",
   "metadata": {},
   "outputs": [],
   "source": [
    "with open(\"myfile.txt\", \"r\") as f:\n",
    "    data = f.read()"
   ]
  },
  {
   "cell_type": "code",
   "execution_count": 7,
   "id": "abfe72a4",
   "metadata": {},
   "outputs": [
    {
     "data": {
      "text/plain": [
       "'I want to become a Data Scientist'"
      ]
     },
     "execution_count": 7,
     "metadata": {},
     "output_type": "execute_result"
    }
   ],
   "source": [
    "data"
   ]
  },
  {
   "cell_type": "code",
   "execution_count": null,
   "id": "e20b1da0",
   "metadata": {},
   "outputs": [],
   "source": []
  },
  {
   "cell_type": "markdown",
   "id": "a9894507",
   "metadata": {},
   "source": [
    "Q4. Explain the following with python code: read(), readline() and readlines()."
   ]
  },
  {
   "cell_type": "raw",
   "id": "388da22a",
   "metadata": {},
   "source": [
    "The read(), readline(), and readlines() methods are used to read data from a file. "
   ]
  },
  {
   "cell_type": "code",
   "execution_count": 8,
   "id": "d02e69b5",
   "metadata": {},
   "outputs": [],
   "source": [
    "with open('file.txt', 'w') as f:\n",
    "    f.write(\"In a small town, there was a library that stored a vast collection of books. One day, a curious reader named Alice visited the library. She went to the fiction section and picked up a book titled \")"
   ]
  },
  {
   "cell_type": "code",
   "execution_count": 9,
   "id": "aa87594f",
   "metadata": {},
   "outputs": [],
   "source": [
    "with open(\"file.txt\", \"r\") as f:\n",
    "    data = f.read()"
   ]
  },
  {
   "cell_type": "code",
   "execution_count": 10,
   "id": "a040d1fd",
   "metadata": {},
   "outputs": [
    {
     "data": {
      "text/plain": [
       "'In a small town, there was a library that stored a vast collection of books. One day, a curious reader named Alice visited the library. She went to the fiction section and picked up a book titled '"
      ]
     },
     "execution_count": 10,
     "metadata": {},
     "output_type": "execute_result"
    }
   ],
   "source": [
    "data"
   ]
  },
  {
   "cell_type": "code",
   "execution_count": 11,
   "id": "a08f219b",
   "metadata": {},
   "outputs": [],
   "source": [
    "with open(\"file.txt\", \"r\") as f:\n",
    "    data = f.readline()"
   ]
  },
  {
   "cell_type": "code",
   "execution_count": 12,
   "id": "0663b9ea",
   "metadata": {},
   "outputs": [
    {
     "data": {
      "text/plain": [
       "'In a small town, there was a library that stored a vast collection of books. One day, a curious reader named Alice visited the library. She went to the fiction section and picked up a book titled '"
      ]
     },
     "execution_count": 12,
     "metadata": {},
     "output_type": "execute_result"
    }
   ],
   "source": [
    "data"
   ]
  },
  {
   "cell_type": "code",
   "execution_count": 13,
   "id": "e0520694",
   "metadata": {},
   "outputs": [],
   "source": [
    "with open(\"file.txt\", \"r\") as f:\n",
    "    data = f.readlines()"
   ]
  },
  {
   "cell_type": "code",
   "execution_count": 14,
   "id": "c6e012c1",
   "metadata": {},
   "outputs": [
    {
     "data": {
      "text/plain": [
       "['In a small town, there was a library that stored a vast collection of books. One day, a curious reader named Alice visited the library. She went to the fiction section and picked up a book titled ']"
      ]
     },
     "execution_count": 14,
     "metadata": {},
     "output_type": "execute_result"
    }
   ],
   "source": [
    "data"
   ]
  },
  {
   "cell_type": "code",
   "execution_count": null,
   "id": "def26455",
   "metadata": {},
   "outputs": [],
   "source": []
  },
  {
   "cell_type": "markdown",
   "id": "d8604700",
   "metadata": {},
   "source": [
    "Q5. Explain why with statement is used with open(). What is the advantage of using with statement and\n",
    "open() together?"
   ]
  },
  {
   "cell_type": "markdown",
   "id": "49e24711",
   "metadata": {},
   "source": [
    "The with statement is used with the open() function in Python to ensure proper handling of resources, such as files. It provides a built-in context management protocol that automatically takes care of resource cleanup, even if an exception occurs.\n",
    "\n",
    "The advantages of using the with statement with open() are:\n",
    "\n",
    "Automatic resource management: The with statement ensures that the file is properly opened and closed, regardless of whether an exception occurs. It automatically takes care of releasing system resources associated with the opened file, such as file handles.\n",
    "Simplified code: Using the with statement eliminates the need for explicitly calling the close() method on the file object, making the code more concise and readable.\n",
    "Exception handling: If an exception occurs within the with block, the with statement guarantees that the file will be closed properly before propagating the exception, preventing resource leaks and maintaining program stability.\n",
    "Better error messages: When using the with statement, if an exception occurs during file operations, the error messages are more informative and provide a clearer understanding of the root cause."
   ]
  },
  {
   "cell_type": "code",
   "execution_count": null,
   "id": "f5a928d4",
   "metadata": {},
   "outputs": [],
   "source": []
  },
  {
   "cell_type": "markdown",
   "id": "b6572341",
   "metadata": {},
   "source": [
    "Q6. Explain the write() and writelines() functions. Give a suitable example."
   ]
  },
  {
   "cell_type": "raw",
   "id": "64d53703",
   "metadata": {},
   "source": [
    "The write() function is used to write a single string to a file, while the writelines() function is used to write a list of strings to a file."
   ]
  },
  {
   "cell_type": "code",
   "execution_count": 15,
   "id": "773e4fab",
   "metadata": {},
   "outputs": [],
   "source": [
    "# write(): It takes a single string as an argument and writes that string to the file.\n",
    "\n",
    "with open('file.txt', 'w') as file:\n",
    "    file.write('Hello, World!')"
   ]
  },
  {
   "cell_type": "code",
   "execution_count": 16,
   "id": "9312ee38",
   "metadata": {},
   "outputs": [],
   "source": [
    "# writelines(): It takes a list of strings as an argument and writes each string as a separate line in the file.\n",
    "\n",
    "lines = ['Line 1\\n', 'Line 2\\n', 'Line 3\\n']\n",
    "with open('file.txt', 'w') as file:\n",
    "    file.writelines(lines)"
   ]
  },
  {
   "cell_type": "code",
   "execution_count": null,
   "id": "52ca7615",
   "metadata": {},
   "outputs": [],
   "source": []
  }
 ],
 "metadata": {
  "kernelspec": {
   "display_name": "Python 3 (ipykernel)",
   "language": "python",
   "name": "python3"
  },
  "language_info": {
   "codemirror_mode": {
    "name": "ipython",
    "version": 3
   },
   "file_extension": ".py",
   "mimetype": "text/x-python",
   "name": "python",
   "nbconvert_exporter": "python",
   "pygments_lexer": "ipython3",
   "version": "3.11.0"
  }
 },
 "nbformat": 4,
 "nbformat_minor": 5
}
