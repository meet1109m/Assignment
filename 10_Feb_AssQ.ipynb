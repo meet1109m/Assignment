{
 "cells": [
  {
   "cell_type": "markdown",
   "id": "74505051",
   "metadata": {},
   "source": [
    "Q1. Which function is used to open a file? What are the different modes of opening a file? Explain each mode\n",
    "of file opening."
   ]
  },
  {
   "cell_type": "raw",
   "id": "15e5657b",
   "metadata": {},
   "source": [
    "The open() function is used to open a file. It takes two arguments: the file name or path and the mode in which the file should be opened.\n",
    "\n",
    "The different modes of opening a file are:\n",
    "\n",
    "'r' (Read mode): This is the default mode. It is used to open a file for reading. The file pointer is placed at the beginning of the file. If the file does not exist, an FileNotFoundError is raised.\n",
    "\n",
    "'w' (Write mode): This mode is used to open a file for writing. If the file already exists, its contents are truncated. If the file does not exist, a new file is created. The file pointer is placed at the beginning of the file.\n",
    "\n",
    "'a' (Append mode): This mode is used to open a file for appending data. If the file exists, the file pointer is placed at the end of the file, allowing new data to be written at the end. If the file does not exist, a new file is created.\n",
    "\n",
    "'x' (Exclusive creation mode): This mode is used to open a file exclusively for writing. It creates a new file and raises a FileExistsError if the file already exists.\n",
    "\n",
    "'t' (Text mode): This is the default mode. It is used to open a file in text mode, which means the file is read or written as a text file (default encoding is platform-dependent).\n",
    "\n",
    "'b' (Binary mode): This mode is used to open a file in binary mode, which means the file is read or written in binary format.\n",
    "\n",
    "'+' (Read and write mode): This mode allows both reading and writing to a file. For example, 'r+' opens a file for reading and writing."
   ]
  },
  {
   "cell_type": "code",
   "execution_count": 1,
   "id": "60bfe52d",
   "metadata": {},
   "outputs": [],
   "source": [
    "file = open('filename.txt', 'w')"
   ]
  },
  {
   "cell_type": "code",
   "execution_count": 2,
   "id": "91e16c43",
   "metadata": {},
   "outputs": [
    {
     "data": {
      "text/plain": [
       "5"
      ]
     },
     "execution_count": 2,
     "metadata": {},
     "output_type": "execute_result"
    }
   ],
   "source": [
    "file.write(\"Hello\")"
   ]
  },
  {
   "cell_type": "code",
   "execution_count": 3,
   "id": "00118f8c",
   "metadata": {},
   "outputs": [],
   "source": [
    "file.close()"
   ]
  },
  {
   "cell_type": "code",
   "execution_count": 4,
   "id": "7b1d6c34",
   "metadata": {},
   "outputs": [],
   "source": [
    "with open('filename.txt', 'w') as file:\n",
    "    file.write(\"Hello\")"
   ]
  },
  {
   "cell_type": "code",
   "execution_count": null,
   "id": "08755878",
   "metadata": {},
   "outputs": [],
   "source": []
  },
  {
   "cell_type": "markdown",
   "id": "82cac40f",
   "metadata": {},
   "source": [
    "Q2. Why close() function is used? Why is it important to close a file?"
   ]
  },
  {
   "cell_type": "raw",
   "id": "4247bd62",
   "metadata": {},
   "source": [
    "The close() function is used to close a file that has been opened using the open() function. \n",
    "It is important to close a file to release system resources, ensure data integrity and consistency, prevent resource leaks, and allow other processes to access the file. \n",
    "Closing a file helps maintain program stability and efficient resource utilization."
   ]
  },
  {
   "cell_type": "code",
   "execution_count": null,
   "id": "ae4f65c8",
   "metadata": {},
   "outputs": [],
   "source": []
  },
  {
   "cell_type": "markdown",
   "id": "6635f9f8",
   "metadata": {},
   "source": [
    "Q3. Write a python program to create a text file. Write ‘I want to become a Data Scientist’ in that file. Then\n",
    "close the file. Open this file and read the content of the file."
   ]
  },
  {
   "cell_type": "code",
   "execution_count": 5,
   "id": "3a9e1e79",
   "metadata": {},
   "outputs": [],
   "source": [
    "with open(\"myfile.txt\", \"w\") as f:\n",
    "    f.write(\"I want to become a Data Scientist\")"
   ]
  },
  {
   "cell_type": "code",
   "execution_count": 6,
   "id": "860e34ab",
   "metadata": {},
   "outputs": [],
   "source": [
    "with open(\"myfile.txt\", \"r\") as f:\n",
    "    data = f.read()"
   ]
  },
  {
   "cell_type": "code",
   "execution_count": 7,
   "id": "00b95729",
   "metadata": {},
   "outputs": [
    {
     "data": {
      "text/plain": [
       "'I want to become a Data Scientist'"
      ]
     },
     "execution_count": 7,
     "metadata": {},
     "output_type": "execute_result"
    }
   ],
   "source": [
    "data"
   ]
  },
  {
   "cell_type": "code",
   "execution_count": null,
   "id": "bc755baa",
   "metadata": {},
   "outputs": [],
   "source": []
  },
  {
   "cell_type": "markdown",
   "id": "5eb2f923",
   "metadata": {},
   "source": [
    "Q4. Explain the following with python code: read(), readline() and readlines()."
   ]
  },
  {
   "cell_type": "raw",
   "id": "dd3baca9",
   "metadata": {},
   "source": [
    "The read(), readline(), and readlines() methods are used to read data from a file. "
   ]
  },
  {
   "cell_type": "code",
   "execution_count": 8,
   "id": "6ac6c4da",
   "metadata": {},
   "outputs": [],
   "source": [
    "with open('file.txt', 'w') as f:\n",
    "    f.write(\"In a small town, there was a library that stored a vast collection of books. One day, a curious reader named Alice visited the library. She went to the fiction section and picked up a book titled \")"
   ]
  },
  {
   "cell_type": "code",
   "execution_count": 9,
   "id": "f2ee5953",
   "metadata": {},
   "outputs": [],
   "source": [
    "with open(\"file.txt\", \"r\") as f:\n",
    "    data = f.read()"
   ]
  },
  {
   "cell_type": "code",
   "execution_count": 10,
   "id": "55ab60f8",
   "metadata": {},
   "outputs": [
    {
     "data": {
      "text/plain": [
       "'In a small town, there was a library that stored a vast collection of books. One day, a curious reader named Alice visited the library. She went to the fiction section and picked up a book titled '"
      ]
     },
     "execution_count": 10,
     "metadata": {},
     "output_type": "execute_result"
    }
   ],
   "source": [
    "data"
   ]
  },
  {
   "cell_type": "code",
   "execution_count": 11,
   "id": "e87363f9",
   "metadata": {},
   "outputs": [],
   "source": [
    "with open(\"file.txt\", \"r\") as f:\n",
    "    data = f.readline()"
   ]
  },
  {
   "cell_type": "code",
   "execution_count": 12,
   "id": "7f6b5fd7",
   "metadata": {},
   "outputs": [
    {
     "data": {
      "text/plain": [
       "'In a small town, there was a library that stored a vast collection of books. One day, a curious reader named Alice visited the library. She went to the fiction section and picked up a book titled '"
      ]
     },
     "execution_count": 12,
     "metadata": {},
     "output_type": "execute_result"
    }
   ],
   "source": [
    "data"
   ]
  },
  {
   "cell_type": "code",
   "execution_count": 13,
   "id": "9cf073fa",
   "metadata": {},
   "outputs": [],
   "source": [
    "with open(\"file.txt\", \"r\") as f:\n",
    "    data = f.readlines()"
   ]
  },
  {
   "cell_type": "code",
   "execution_count": 14,
   "id": "ae9ef962",
   "metadata": {},
   "outputs": [
    {
     "data": {
      "text/plain": [
       "['In a small town, there was a library that stored a vast collection of books. One day, a curious reader named Alice visited the library. She went to the fiction section and picked up a book titled ']"
      ]
     },
     "execution_count": 14,
     "metadata": {},
     "output_type": "execute_result"
    }
   ],
   "source": [
    "data"
   ]
  },
  {
   "cell_type": "code",
   "execution_count": null,
   "id": "460a6bc9",
   "metadata": {},
   "outputs": [],
   "source": []
  },
  {
   "cell_type": "markdown",
   "id": "17206811",
   "metadata": {},
   "source": [
    "Q5. Explain why with statement is used with open(). What is the advantage of using with statement and\n",
    "open() together?"
   ]
  },
  {
   "cell_type": "raw",
   "id": "d63bfb21",
   "metadata": {},
   "source": [
    "The with statement is used with the open() function in Python to ensure proper handling of resources, such as files. It provides a built-in context management protocol that automatically takes care of resource cleanup, even if an exception occurs.\n",
    "\n",
    "The advantages of using the with statement with open() are:\n",
    "\n",
    "Automatic resource management: The with statement ensures that the file is properly opened and closed, regardless of whether an exception occurs. It automatically takes care of releasing system resources associated with the opened file, such as file handles.\n",
    "Simplified code: Using the with statement eliminates the need for explicitly calling the close() method on the file object, making the code more concise and readable.\n",
    "Exception handling: If an exception occurs within the with block, the with statement guarantees that the file will be closed properly before propagating the exception, preventing resource leaks and maintaining program stability.\n",
    "Better error messages: When using the with statement, if an exception occurs during file operations, the error messages are more informative and provide a clearer understanding of the root cause."
   ]
  },
  {
   "cell_type": "code",
   "execution_count": null,
   "id": "c397a513",
   "metadata": {},
   "outputs": [],
   "source": []
  },
  {
   "cell_type": "markdown",
   "id": "7eb88e85",
   "metadata": {},
   "source": [
    "Q6. Explain the write() and writelines() functions. Give a suitable example."
   ]
  },
  {
   "cell_type": "raw",
   "id": "dcc178a8",
   "metadata": {},
   "source": [
    "The write() function is used to write a single string to a file, while the writelines() function is used to write a list of strings to a file."
   ]
  },
  {
   "cell_type": "code",
   "execution_count": 15,
   "id": "ab6ca232",
   "metadata": {},
   "outputs": [],
   "source": [
    "# write(): It takes a single string as an argument and writes that string to the file.\n",
    "\n",
    "with open('file.txt', 'w') as file:\n",
    "    file.write('Hello, World!')"
   ]
  },
  {
   "cell_type": "code",
   "execution_count": 16,
   "id": "83d35adb",
   "metadata": {},
   "outputs": [],
   "source": [
    "# writelines(): It takes a list of strings as an argument and writes each string as a separate line in the file.\n",
    "\n",
    "lines = ['Line 1\\n', 'Line 2\\n', 'Line 3\\n']\n",
    "with open('file.txt', 'w') as file:\n",
    "    file.writelines(lines)"
   ]
  },
  {
   "cell_type": "code",
   "execution_count": null,
   "id": "d4e88841",
   "metadata": {},
   "outputs": [],
   "source": []
  }
 ],
 "metadata": {
  "kernelspec": {
   "display_name": "Python 3 (ipykernel)",
   "language": "python",
   "name": "python3"
  },
  "language_info": {
   "codemirror_mode": {
    "name": "ipython",
    "version": 3
   },
   "file_extension": ".py",
   "mimetype": "text/x-python",
   "name": "python",
   "nbconvert_exporter": "python",
   "pygments_lexer": "ipython3",
   "version": "3.11.0"
  }
 },
 "nbformat": 4,
 "nbformat_minor": 5
}
