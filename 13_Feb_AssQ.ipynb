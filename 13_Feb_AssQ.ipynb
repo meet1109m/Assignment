{
 "cells": [
  {
   "cell_type": "markdown",
   "id": "b5177c0f",
   "metadata": {},
   "source": [
    "Q1. Explain why we have to use the Exception class while creating a Custom Exception.\n",
    "\n",
    "Note: Here Exception class refers to the base class for all the exceptions."
   ]
  },
  {
   "cell_type": "code",
   "execution_count": null,
   "id": "802f404a",
   "metadata": {},
   "outputs": [],
   "source": []
  },
  {
   "cell_type": "markdown",
   "id": "de1db893",
   "metadata": {},
   "source": [
    "We use the Exception class as the base class when creating a custom exception because it provides a standard framework and functionality for handling and propagating exceptions in Python.\n",
    "\n",
    "The Exception class is the base class for all built-in exceptions in Python. It defines the common attributes and methods that exceptions should have, such as the ability to store an error message and propagate through the call stack.\n",
    "\n",
    "By deriving our custom exception class from the Exception class, we inherit these essential features and behaviors, allowing us to leverage the existing exception handling mechanisms provided by Python.\n",
    "\n",
    "Here are a few reasons why using the Exception class as the base for custom exceptions is beneficial:\n",
    "\n",
    "- Consistency: By using the Exception class, our custom exception follows the same structure and behavior as other exceptions in Python. This consistency makes it easier for developers to understand and work with our custom exception.\n",
    "\n",
    "- Exception Hierarchy: The Exception class is part of the exception hierarchy in Python, which includes various built-in exception classes like ValueError, TypeError, etc. By using the Exception class as the base, our custom exception becomes part of this hierarchy, enabling better organization and categorization of exceptions.\n",
    "\n",
    "- Compatibility: By inheriting from Exception, our custom exception is compatible with the existing exception handling constructs, such as try-except blocks, that are designed to handle exceptions derived from the Exception class.\n",
    "\n",
    "- Customization: Even though we derive our custom exception class from Exception, we can still customize its behavior by adding additional attributes or overriding methods as per our specific requirements. Inheriting from Exception provides a solid foundation upon which we can build our customizations.\n",
    "\n"
   ]
  },
  {
   "cell_type": "code",
   "execution_count": null,
   "id": "7d07df3a",
   "metadata": {},
   "outputs": [],
   "source": []
  },
  {
   "cell_type": "markdown",
   "id": "b0a48fa8",
   "metadata": {},
   "source": [
    "Q2. Write a python program to print Python Exception Hierarchy."
   ]
  },
  {
   "cell_type": "code",
   "execution_count": 1,
   "id": "4e32f472",
   "metadata": {},
   "outputs": [],
   "source": [
    "import builtins\n",
    "\n",
    "def print_exception_hierarchy():\n",
    "    print(\"Python Exception Hierarchy:\")\n",
    "    for exc in dir(builtins):\n",
    "        if isinstance(getattr(builtins, exc), type) and issubclass(getattr(builtins, exc), BaseException):\n",
    "            print(f\"- {exc}\")"
   ]
  },
  {
   "cell_type": "code",
   "execution_count": 2,
   "id": "592aaa34",
   "metadata": {},
   "outputs": [
    {
     "name": "stdout",
     "output_type": "stream",
     "text": [
      "Python Exception Hierarchy:\n",
      "- ArithmeticError\n",
      "- AssertionError\n",
      "- AttributeError\n",
      "- BaseException\n",
      "- BaseExceptionGroup\n",
      "- BlockingIOError\n",
      "- BrokenPipeError\n",
      "- BufferError\n",
      "- BytesWarning\n",
      "- ChildProcessError\n",
      "- ConnectionAbortedError\n",
      "- ConnectionError\n",
      "- ConnectionRefusedError\n",
      "- ConnectionResetError\n",
      "- DeprecationWarning\n",
      "- EOFError\n",
      "- EncodingWarning\n",
      "- EnvironmentError\n",
      "- Exception\n",
      "- ExceptionGroup\n",
      "- FileExistsError\n",
      "- FileNotFoundError\n",
      "- FloatingPointError\n",
      "- FutureWarning\n",
      "- GeneratorExit\n",
      "- IOError\n",
      "- ImportError\n",
      "- ImportWarning\n",
      "- IndentationError\n",
      "- IndexError\n",
      "- InterruptedError\n",
      "- IsADirectoryError\n",
      "- KeyError\n",
      "- KeyboardInterrupt\n",
      "- LookupError\n",
      "- MemoryError\n",
      "- ModuleNotFoundError\n",
      "- NameError\n",
      "- NotADirectoryError\n",
      "- NotImplementedError\n",
      "- OSError\n",
      "- OverflowError\n",
      "- PendingDeprecationWarning\n",
      "- PermissionError\n",
      "- ProcessLookupError\n",
      "- RecursionError\n",
      "- ReferenceError\n",
      "- ResourceWarning\n",
      "- RuntimeError\n",
      "- RuntimeWarning\n",
      "- StopAsyncIteration\n",
      "- StopIteration\n",
      "- SyntaxError\n",
      "- SyntaxWarning\n",
      "- SystemError\n",
      "- SystemExit\n",
      "- TabError\n",
      "- TimeoutError\n",
      "- TypeError\n",
      "- UnboundLocalError\n",
      "- UnicodeDecodeError\n",
      "- UnicodeEncodeError\n",
      "- UnicodeError\n",
      "- UnicodeTranslateError\n",
      "- UnicodeWarning\n",
      "- UserWarning\n",
      "- ValueError\n",
      "- Warning\n",
      "- WindowsError\n",
      "- ZeroDivisionError\n"
     ]
    }
   ],
   "source": [
    "print_exception_hierarchy()"
   ]
  },
  {
   "cell_type": "code",
   "execution_count": null,
   "id": "c7cb1fca",
   "metadata": {},
   "outputs": [],
   "source": []
  },
  {
   "cell_type": "markdown",
   "id": "d9790b2c",
   "metadata": {},
   "source": [
    "Q3. What errors are defined in the ArithmeticError class? Explain any two with an example."
   ]
  },
  {
   "cell_type": "code",
   "execution_count": null,
   "id": "8e2907b6",
   "metadata": {},
   "outputs": [],
   "source": []
  },
  {
   "cell_type": "markdown",
   "id": "fd2ce5a9",
   "metadata": {},
   "source": [
    "The ArithmeticError class in Python is the base class for exceptions that occur during arithmetic operations. It serves as a superclass for more specific arithmetic-related exceptions. Some of the errors defined in the ArithmeticError class include:"
   ]
  },
  {
   "cell_type": "markdown",
   "id": "25ab3bc2",
   "metadata": {},
   "source": [
    "- ZeroDivisionError: This error occurs when a division or modulo operation is performed with a divisor of zero."
   ]
  },
  {
   "cell_type": "code",
   "execution_count": 3,
   "id": "66eea38d",
   "metadata": {},
   "outputs": [
    {
     "name": "stdout",
     "output_type": "stream",
     "text": [
      "Error: Division by zero is not allowed.\n"
     ]
    }
   ],
   "source": [
    "def divide_numbers(a, b):\n",
    "    try:\n",
    "        result = a / b\n",
    "        print(\"Result:\", result)\n",
    "    except ZeroDivisionError:\n",
    "        print(\"Error: Division by zero is not allowed.\")\n",
    "\n",
    "divide_numbers(10, 0)"
   ]
  },
  {
   "cell_type": "markdown",
   "id": "de62baa1",
   "metadata": {},
   "source": [
    "- TypeError: This error occurs when performing an unsupported operation between two incompatible data types."
   ]
  },
  {
   "cell_type": "code",
   "execution_count": 4,
   "id": "5d7eb302",
   "metadata": {},
   "outputs": [],
   "source": [
    "def add_numbers(a, b):\n",
    "    try:\n",
    "        result = a + b\n",
    "        print(\"Result:\", result)\n",
    "    except TypeError:\n",
    "        print(\"Error: Unsupported operand types for addition.\")"
   ]
  },
  {
   "cell_type": "code",
   "execution_count": 5,
   "id": "34c29ed3",
   "metadata": {},
   "outputs": [
    {
     "name": "stdout",
     "output_type": "stream",
     "text": [
      "Error: Unsupported operand types for addition.\n"
     ]
    }
   ],
   "source": [
    "add_numbers(5, \"2\")"
   ]
  },
  {
   "cell_type": "code",
   "execution_count": null,
   "id": "2f12837a",
   "metadata": {},
   "outputs": [],
   "source": []
  },
  {
   "cell_type": "markdown",
   "id": "e8f5494a",
   "metadata": {},
   "source": [
    "Q4. Why LookupError class is used? Explain with an example KeyError and IndexError."
   ]
  },
  {
   "cell_type": "code",
   "execution_count": null,
   "id": "c48c6cdc",
   "metadata": {},
   "outputs": [],
   "source": []
  },
  {
   "cell_type": "markdown",
   "id": "449a3b58",
   "metadata": {},
   "source": [
    "The LookupError class is used as a base class for exceptions that occur when a lookup or indexing operation fails. It serves as a superclass for more specific lookup-related exceptions. Two commonly used subclasses of LookupError are KeyError and IndexError."
   ]
  },
  {
   "cell_type": "markdown",
   "id": "bce95aa6",
   "metadata": {},
   "source": [
    "- KeyError: This error occurs when a dictionary key is not found."
   ]
  },
  {
   "cell_type": "code",
   "execution_count": 6,
   "id": "7efbb5f4",
   "metadata": {},
   "outputs": [],
   "source": [
    "def get_value_from_dict(dictionary, key):\n",
    "    try:\n",
    "        value = dictionary[key]\n",
    "        print(\"Value:\", value)\n",
    "    except KeyError:\n",
    "        print(\"Error: Key not found in the dictionary.\")"
   ]
  },
  {
   "cell_type": "code",
   "execution_count": 7,
   "id": "c5c82030",
   "metadata": {},
   "outputs": [
    {
     "name": "stdout",
     "output_type": "stream",
     "text": [
      "Error: Key not found in the dictionary.\n"
     ]
    }
   ],
   "source": [
    "my_dict = {\"name\": \"John\", \"age\": 25}\n",
    "get_value_from_dict(my_dict, \"email\")"
   ]
  },
  {
   "cell_type": "markdown",
   "id": "f3f41949",
   "metadata": {},
   "source": [
    "- IndexError: This error occurs when accessing a sequence (such as a list or a string) using an invalid index."
   ]
  },
  {
   "cell_type": "code",
   "execution_count": 8,
   "id": "5583eb27",
   "metadata": {},
   "outputs": [],
   "source": [
    "def get_element_from_list(lst, index):\n",
    "    try:\n",
    "        element = lst[index]\n",
    "        print(\"Element:\", element)\n",
    "    except IndexError:\n",
    "        print(\"Error: Invalid index.\")"
   ]
  },
  {
   "cell_type": "code",
   "execution_count": 9,
   "id": "cd6a67c3",
   "metadata": {},
   "outputs": [
    {
     "name": "stdout",
     "output_type": "stream",
     "text": [
      "Error: Invalid index.\n"
     ]
    }
   ],
   "source": [
    "my_list = [1, 2, 3]\n",
    "get_element_from_list(my_list, 5)"
   ]
  },
  {
   "cell_type": "code",
   "execution_count": null,
   "id": "cb05b110",
   "metadata": {},
   "outputs": [],
   "source": []
  },
  {
   "cell_type": "markdown",
   "id": "5809cc6b",
   "metadata": {},
   "source": [
    "Q5. Explain ImportError. What is ModuleNotFoundError?"
   ]
  },
  {
   "cell_type": "code",
   "execution_count": null,
   "id": "9503fef7",
   "metadata": {},
   "outputs": [],
   "source": []
  },
  {
   "cell_type": "markdown",
   "id": "99eff546",
   "metadata": {},
   "source": [
    "ImportError is an exception that occurs when an imported module or a component within a module cannot be found or loaded. It is a base class for various import-related exceptions.\n",
    "\n",
    "ModuleNotFoundError is a subclass of ImportError that specifically occurs when a module is not found during an import operation. It was introduced in Python 3.6 to provide more specific information about the import error."
   ]
  },
  {
   "cell_type": "code",
   "execution_count": null,
   "id": "e84fbdae",
   "metadata": {},
   "outputs": [],
   "source": []
  },
  {
   "cell_type": "markdown",
   "id": "6ce5962a",
   "metadata": {},
   "source": [
    "Q6. List down some best practices for exception handling in python."
   ]
  },
  {
   "cell_type": "code",
   "execution_count": null,
   "id": "74a4fc4e",
   "metadata": {},
   "outputs": [],
   "source": []
  },
  {
   "cell_type": "markdown",
   "id": "0cfb6f6e",
   "metadata": {},
   "source": [
    "When handling exceptions in Python, it is important to follow these best practices:\n",
    "\n",
    "- Use Specific Exceptions: Catch specific exceptions rather than using a broad except block. This allows for targeted error handling based on the specific exception type.\n",
    "\n",
    "- Provide Proper Messages: Always include meaningful error messages when raising or catching exceptions. Clear and descriptive messages help in identifying and resolving issues.\n",
    "\n",
    "- Log Errors: Instead of just printing error messages, consider using a logging mechanism to log exceptions. Logging provides a centralized way to capture and analyze errors, aiding in debugging and troubleshooting.\n",
    "\n",
    "- Avoid Multiple Exception Handling: Minimize the use of multiple except blocks if possible. Having a single exception handler for a specific type of exception promotes cleaner code and better maintainability.\n",
    "\n",
    "- Document Errors: Document the exceptions that can be raised by your functions or methods. This documentation helps other developers understand how to handle potential exceptions and what to expect.\n",
    "\n",
    "- Resource Cleanup: Use the finally block to ensure proper resource cleanup, such as closing files or releasing acquired resources. The finally block is executed regardless of whether an exception occurs."
   ]
  },
  {
   "cell_type": "code",
   "execution_count": null,
   "id": "a8e326b1",
   "metadata": {},
   "outputs": [],
   "source": []
  }
 ],
 "metadata": {
  "kernelspec": {
   "display_name": "Python 3 (ipykernel)",
   "language": "python",
   "name": "python3"
  },
  "language_info": {
   "codemirror_mode": {
    "name": "ipython",
    "version": 3
   },
   "file_extension": ".py",
   "mimetype": "text/x-python",
   "name": "python",
   "nbconvert_exporter": "python",
   "pygments_lexer": "ipython3",
   "version": "3.11.0"
  }
 },
 "nbformat": 4,
 "nbformat_minor": 5
}
