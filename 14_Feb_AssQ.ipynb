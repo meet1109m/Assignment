{
 "cells": [
  {
   "cell_type": "markdown",
   "id": "461356c3",
   "metadata": {},
   "source": [
    "Q1. What is multithreading in python? Why is it used? Name the module used to handle threads in python"
   ]
  },
  {
   "cell_type": "code",
   "execution_count": null,
   "id": "510d2822",
   "metadata": {},
   "outputs": [],
   "source": []
  },
  {
   "cell_type": "markdown",
   "id": "e71fdb9c",
   "metadata": {},
   "source": [
    "Multithreading in Python refers to the ability of a program to execute multiple threads concurrently. A thread is a separate flow of execution within a program, allowing multiple tasks to be performed simultaneously. Multithreading is used to achieve parallelism and improve the performance of programs that involve tasks that can run independently.\n",
    "\n",
    "It is used to achieve parallelism and improve program performance. The threading module is used to handle threads in Python."
   ]
  },
  {
   "cell_type": "code",
   "execution_count": 1,
   "id": "0257ee7d",
   "metadata": {},
   "outputs": [],
   "source": [
    "import threading"
   ]
  },
  {
   "cell_type": "code",
   "execution_count": null,
   "id": "46da9842",
   "metadata": {},
   "outputs": [],
   "source": []
  },
  {
   "cell_type": "markdown",
   "id": "9ac2d89e",
   "metadata": {},
   "source": [
    "Q2. Why threading module used? Write the use of the following functions\n",
    "\n",
    "1. activeCount()\n",
    "2. currentThread()\n",
    "3. enumerate()"
   ]
  },
  {
   "cell_type": "code",
   "execution_count": null,
   "id": "6e2c25aa",
   "metadata": {},
   "outputs": [],
   "source": []
  },
  {
   "cell_type": "markdown",
   "id": "9f8db512",
   "metadata": {},
   "source": [
    "The threading module in Python is used to handle threads and provides various functions and methods to manage and control them. Here are the explanations of the functions you mentioned:\n",
    "\n",
    "1. activeCount(): This function returns the number of Thread objects currently alive (i.e., the number of active threads) in the program.\n",
    "\n",
    "\n",
    "2. currentThread(): This function returns the current Thread object, representing the thread from which it is called. It allows you to obtain information about the currently executing thread, such as its name, identifier, and other attributes.\n",
    "\n",
    "\n",
    "3. enumerate(): This function returns a list of all Thread objects currently alive (both daemon and non-daemon threads) in the program. It provides a convenient way to iterate over all active threads and perform operations or gather information about them."
   ]
  },
  {
   "cell_type": "code",
   "execution_count": null,
   "id": "3ac9b0ca",
   "metadata": {},
   "outputs": [],
   "source": []
  },
  {
   "cell_type": "markdown",
   "id": "88f4416d",
   "metadata": {},
   "source": [
    "Q3. Explain the following functions\n",
    "1. run()\n",
    "2. start()\n",
    "3. join()\n",
    "4. isAlive()"
   ]
  },
  {
   "cell_type": "code",
   "execution_count": null,
   "id": "4af9e1d2",
   "metadata": {},
   "outputs": [],
   "source": []
  },
  {
   "cell_type": "markdown",
   "id": "ed79c22b",
   "metadata": {},
   "source": [
    "1. run(): The run() method is responsible for the actual execution of the target function or code within a thread. It is called automatically when a thread is started using the start() method. You can override this method in a custom thread class to define the specific behavior you want the thread to execute.\n",
    "\n",
    "\n",
    "2. start(): The start() method is used to start a thread's execution. When you call start() on a thread object, it initiates a new thread of execution and calls the run() method within that thread. It allows the thread to begin executing concurrently with other threads in the program.\n",
    "\n",
    "\n",
    "3. join(): The join() method is used to wait for a thread to complete its execution. When you call join() on a thread object, the calling thread will pause its execution and wait until the target thread finishes. This method is often used to ensure that the main thread waits for all the spawned threads to finish before exiting the program.\n",
    "\n",
    "\n",
    "4. isAlive(): The isAlive() method is used to check if a thread is currently alive or running. It returns a boolean value indicating whether the thread is still executing. If a thread has started but has completed its execution or has been terminated, isAlive() will return False. If the thread is still active and running, it will return True."
   ]
  },
  {
   "cell_type": "code",
   "execution_count": null,
   "id": "df45caae",
   "metadata": {},
   "outputs": [],
   "source": []
  },
  {
   "cell_type": "markdown",
   "id": "9d473140",
   "metadata": {},
   "source": [
    "Q4. Write a python program to create two threads. Thread one must print the list of squares and thread\n",
    "two must print the list of cubes"
   ]
  },
  {
   "cell_type": "code",
   "execution_count": null,
   "id": "58884e68",
   "metadata": {},
   "outputs": [],
   "source": []
  },
  {
   "cell_type": "code",
   "execution_count": 3,
   "id": "1c3ee74f",
   "metadata": {},
   "outputs": [
    {
     "name": "stdout",
     "output_type": "stream",
     "text": [
      "Square: 1\n",
      "Square: 4\n",
      "Square: 9\n",
      "Square: 16\n",
      "Square: 25\n",
      "Cube: 1\n",
      "Cube: 8\n",
      "Cube: 27\n",
      "Cube: 64\n",
      "Cube: 125\n"
     ]
    }
   ],
   "source": [
    "import threading\n",
    "\n",
    "def print_squares(numbers):\n",
    "    for num in numbers:\n",
    "        square = num ** 2\n",
    "        print(f\"Square: {square}\")\n",
    "\n",
    "def print_cubes(numbers):\n",
    "    for num in numbers:\n",
    "        cube = num ** 3\n",
    "        print(f\"Cube: {cube}\")\n",
    "\n",
    "if __name__ == \"__main__\":\n",
    "    numbers = [1, 2, 3, 4, 5]\n",
    "\n",
    "    thread_squares = threading.Thread(target=print_squares, args=(numbers,))\n",
    "\n",
    "    thread_cubes = threading.Thread(target=print_cubes, args=(numbers,))\n",
    "    thread_squares.start()\n",
    "    thread_cubes.start()\n",
    "\n",
    "    thread_squares.join()\n",
    "    thread_cubes.join()"
   ]
  },
  {
   "cell_type": "code",
   "execution_count": null,
   "id": "d6a23bc0",
   "metadata": {},
   "outputs": [],
   "source": []
  },
  {
   "cell_type": "markdown",
   "id": "d223be73",
   "metadata": {},
   "source": [
    "Q5. State advantages and disadvantages of multithreading\n"
   ]
  },
  {
   "cell_type": "code",
   "execution_count": null,
   "id": "5ac81478",
   "metadata": {},
   "outputs": [],
   "source": []
  },
  {
   "cell_type": "markdown",
   "id": "a807eb59",
   "metadata": {},
   "source": [
    "Advantages of multithreading:\n",
    "\n",
    "- Concurrency and improved program performance.\n",
    "- Efficient resource utilization.\n",
    "- Increased throughput and responsiveness.\n",
    "- Simplified design for certain applications.\n",
    "\n",
    "\n",
    "Disadvantages of multithreading:\n",
    "\n",
    "- Increased complexity and potential for bugs.\n",
    "- Synchronization overhead and performance impact.\n",
    "- Higher memory consumption.\n",
    "- Difficulty in debugging.\n",
    "- Limited CPU parallelism in Python due to the Global Interpreter Lock (GIL)."
   ]
  },
  {
   "cell_type": "code",
   "execution_count": null,
   "id": "6a8b6ed8",
   "metadata": {},
   "outputs": [],
   "source": []
  },
  {
   "cell_type": "markdown",
   "id": "4ab96b61",
   "metadata": {},
   "source": [
    "Q6. Explain deadlocks and race conditions."
   ]
  },
  {
   "cell_type": "code",
   "execution_count": null,
   "id": "c8f40c93",
   "metadata": {},
   "outputs": [],
   "source": []
  },
  {
   "cell_type": "markdown",
   "id": "85c701e9",
   "metadata": {},
   "source": [
    "Deadlock:\n",
    "\n",
    "- Deadlock refers to a situation where two or more threads or processes are unable to proceed because each is waiting for a resource held by the other, resulting in a deadlock state.\n",
    "- It occurs when there is a circular dependency between threads or processes, where each is waiting for a resource that another process holds.\n",
    "- Deadlocks can cause the system to halt, resulting in a complete loss of progress and unresponsiveness.\n",
    "\n",
    "\n",
    "Race Condition:\n",
    "\n",
    "- A race condition occurs when two or more threads or processes access shared data or resources concurrently, resulting in unpredictable and undesired behavior.\n",
    "- It arises when the outcome of the program depends on the relative timing or interleaving of multiple threads' execution.\n",
    "- Race conditions can lead to data corruption, inconsistent results, or program crashes if proper synchronization mechanisms are not in place.\n",
    "- The behavior of a race condition is non-deterministic and can be difficult to reproduce and debug."
   ]
  },
  {
   "cell_type": "code",
   "execution_count": null,
   "id": "c9329394",
   "metadata": {},
   "outputs": [],
   "source": []
  }
 ],
 "metadata": {
  "kernelspec": {
   "display_name": "Python 3 (ipykernel)",
   "language": "python",
   "name": "python3"
  },
  "language_info": {
   "codemirror_mode": {
    "name": "ipython",
    "version": 3
   },
   "file_extension": ".py",
   "mimetype": "text/x-python",
   "name": "python",
   "nbconvert_exporter": "python",
   "pygments_lexer": "ipython3",
   "version": "3.11.0"
  }
 },
 "nbformat": 4,
 "nbformat_minor": 5
}
