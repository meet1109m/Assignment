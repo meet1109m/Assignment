{
 "cells": [
  {
   "cell_type": "markdown",
   "id": "acd860a4",
   "metadata": {},
   "source": [
    "Q1, Create a vehicle class with an init method having instance variables as name_of_vehicle, max_speed\n",
    "and average_of_vehicle."
   ]
  },
  {
   "cell_type": "code",
   "execution_count": 1,
   "id": "c6c1a341",
   "metadata": {},
   "outputs": [],
   "source": [
    "class vehicle:\n",
    "    def __init__(self, name_of_vehicle, max_speed, average_of_vehicle):\n",
    "        self.name_of_vehicle = name_of_vehicle\n",
    "        self.max_speed = max_speed\n",
    "        self.average_of_vehicle = average_of_vehicle"
   ]
  },
  {
   "cell_type": "code",
   "execution_count": null,
   "id": "36988712",
   "metadata": {},
   "outputs": [],
   "source": []
  },
  {
   "cell_type": "markdown",
   "id": "532373d2",
   "metadata": {},
   "source": [
    "Q2. Create a child class car from the vehicle class created in Que 1, which will inherit the vehicle class.\n",
    "Create a method named seating_capacity which takes capacity as an argument and returns the name of\n",
    "the vehicle and its seating capacity."
   ]
  },
  {
   "cell_type": "code",
   "execution_count": 2,
   "id": "6f9ba7a9",
   "metadata": {},
   "outputs": [],
   "source": [
    "class car(vehicle):\n",
    "    def seating_capacity(self, capacity):\n",
    "        return f\"{self.name_of_vehicle} has a seating capacity of {capacity}.\""
   ]
  },
  {
   "cell_type": "code",
   "execution_count": 3,
   "id": "16a413f5",
   "metadata": {},
   "outputs": [],
   "source": [
    "c1 = car(\"Tesla\", 250, 100)"
   ]
  },
  {
   "cell_type": "code",
   "execution_count": 4,
   "id": "96b12211",
   "metadata": {},
   "outputs": [
    {
     "data": {
      "text/plain": [
       "'Tesla has a seating capacity of 4.'"
      ]
     },
     "execution_count": 4,
     "metadata": {},
     "output_type": "execute_result"
    }
   ],
   "source": [
    "c1.seating_capacity(4)"
   ]
  },
  {
   "cell_type": "code",
   "execution_count": null,
   "id": "ade19cc9",
   "metadata": {},
   "outputs": [],
   "source": []
  },
  {
   "cell_type": "markdown",
   "id": "37657b43",
   "metadata": {},
   "source": [
    "Q3. What is multiple inheritance? Write a python code to demonstrate multiple inheritance."
   ]
  },
  {
   "cell_type": "code",
   "execution_count": null,
   "id": "4e8f002b",
   "metadata": {},
   "outputs": [],
   "source": []
  },
  {
   "cell_type": "markdown",
   "id": "62d9a674",
   "metadata": {},
   "source": [
    "Multiple inheritance is a feature in object-oriented programming languages that allows a class to inherit attributes and behaviors from multiple parent classes. \n",
    "In multiple inheritance, a child class can inherit from two or more parent classes, thereby combining the features of all the parent classes."
   ]
  },
  {
   "cell_type": "code",
   "execution_count": 5,
   "id": "4b3f33be",
   "metadata": {},
   "outputs": [],
   "source": [
    "class Vehicle:\n",
    "    def __init__(self, brand):\n",
    "        self.brand = brand\n",
    "\n",
    "    def start(self):\n",
    "        return f\"{self.brand} vehicle started.\"\n",
    "\n",
    "\n",
    "class Electric:\n",
    "    def __init__(self, battery_capacity):\n",
    "        self.battery_capacity = battery_capacity\n",
    "\n",
    "    def charge(self):\n",
    "        return \"Charging the electric vehicle.\"\n",
    "\n",
    "\n",
    "class Car(Vehicle, Electric):\n",
    "    def __init__(self, brand, battery_capacity, fuel_type):\n",
    "        Vehicle.__init__(self, brand)\n",
    "        Electric.__init__(self, battery_capacity)\n",
    "        self.fuel_type = fuel_type\n",
    "\n",
    "    def refuel(self):\n",
    "        return f\"Refueling the {self.brand} car with {self.fuel_type}.\"\n",
    "\n",
    "    def display_details(self):\n",
    "        return f\"Brand: {self.brand}, Battery Capacity: {self.battery_capacity}, Fuel Type: {self.fuel_type}.\""
   ]
  },
  {
   "cell_type": "code",
   "execution_count": 6,
   "id": "8147e3a7",
   "metadata": {},
   "outputs": [],
   "source": [
    "car = Car(\"Tesla\", \"75 kWh\", \"Electric\")"
   ]
  },
  {
   "cell_type": "code",
   "execution_count": 7,
   "id": "156b80c1",
   "metadata": {},
   "outputs": [
    {
     "data": {
      "text/plain": [
       "'Tesla vehicle started.'"
      ]
     },
     "execution_count": 7,
     "metadata": {},
     "output_type": "execute_result"
    }
   ],
   "source": [
    "car.start()"
   ]
  },
  {
   "cell_type": "code",
   "execution_count": 8,
   "id": "addfeb56",
   "metadata": {},
   "outputs": [
    {
     "data": {
      "text/plain": [
       "'Charging the electric vehicle.'"
      ]
     },
     "execution_count": 8,
     "metadata": {},
     "output_type": "execute_result"
    }
   ],
   "source": [
    "car.charge()"
   ]
  },
  {
   "cell_type": "code",
   "execution_count": 9,
   "id": "d45f308d",
   "metadata": {},
   "outputs": [
    {
     "data": {
      "text/plain": [
       "'Refueling the Tesla car with Electric.'"
      ]
     },
     "execution_count": 9,
     "metadata": {},
     "output_type": "execute_result"
    }
   ],
   "source": [
    "car.refuel()"
   ]
  },
  {
   "cell_type": "code",
   "execution_count": 10,
   "id": "7716912f",
   "metadata": {},
   "outputs": [
    {
     "data": {
      "text/plain": [
       "'Brand: Tesla, Battery Capacity: 75 kWh, Fuel Type: Electric.'"
      ]
     },
     "execution_count": 10,
     "metadata": {},
     "output_type": "execute_result"
    }
   ],
   "source": [
    "car.display_details()"
   ]
  },
  {
   "cell_type": "code",
   "execution_count": null,
   "id": "6f83f8f2",
   "metadata": {},
   "outputs": [],
   "source": []
  },
  {
   "cell_type": "markdown",
   "id": "b92daa47",
   "metadata": {},
   "source": [
    "Q4. What are getter and setter in python? Create a class and create a getter and a setter method in this\n",
    "class."
   ]
  },
  {
   "cell_type": "code",
   "execution_count": null,
   "id": "bec31f44",
   "metadata": {},
   "outputs": [],
   "source": []
  },
  {
   "cell_type": "markdown",
   "id": "2a14be9b",
   "metadata": {},
   "source": [
    "In Python, getter and setter methods are used to provide controlled access to class attributes or properties. \n",
    "They are used to get (retrieve) and set (modify) the values of private or protected class attributes. \n",
    "Getter methods are used to fetch the value of an attribute, while setter methods are used to set or update the value of an attribute."
   ]
  },
  {
   "cell_type": "code",
   "execution_count": 11,
   "id": "64d92965",
   "metadata": {},
   "outputs": [],
   "source": [
    "class Person:\n",
    "    def __init__(self, name):\n",
    "        self._name = name\n",
    "\n",
    "    def get_name(self):\n",
    "        return self._name\n",
    "\n",
    "    def set_name(self, new_name):\n",
    "        self._name = new_name"
   ]
  },
  {
   "cell_type": "code",
   "execution_count": 12,
   "id": "25960130",
   "metadata": {},
   "outputs": [],
   "source": [
    "person = Person(\"John\")"
   ]
  },
  {
   "cell_type": "code",
   "execution_count": 13,
   "id": "b0d063f6",
   "metadata": {},
   "outputs": [
    {
     "data": {
      "text/plain": [
       "'John'"
      ]
     },
     "execution_count": 13,
     "metadata": {},
     "output_type": "execute_result"
    }
   ],
   "source": [
    "person.get_name()"
   ]
  },
  {
   "cell_type": "code",
   "execution_count": 14,
   "id": "78929adf",
   "metadata": {},
   "outputs": [],
   "source": [
    "person.set_name(\"Alice\")"
   ]
  },
  {
   "cell_type": "code",
   "execution_count": 15,
   "id": "29a1bb7e",
   "metadata": {},
   "outputs": [
    {
     "data": {
      "text/plain": [
       "'Alice'"
      ]
     },
     "execution_count": 15,
     "metadata": {},
     "output_type": "execute_result"
    }
   ],
   "source": [
    "person.get_name()"
   ]
  },
  {
   "cell_type": "code",
   "execution_count": null,
   "id": "b29d3d25",
   "metadata": {},
   "outputs": [],
   "source": []
  },
  {
   "cell_type": "markdown",
   "id": "b4a13189",
   "metadata": {},
   "source": [
    "Q5.What is method overriding in python? Write a python code to demonstrate method overriding."
   ]
  },
  {
   "cell_type": "code",
   "execution_count": null,
   "id": "7a4b1686",
   "metadata": {},
   "outputs": [],
   "source": []
  },
  {
   "cell_type": "markdown",
   "id": "8a388950",
   "metadata": {},
   "source": [
    "Method overriding is a concept in object-oriented programming where a subclass provides its own implementation of a method that is already defined in its superclass. \n",
    "The overridden method in the subclass has the same name, parameters, and return type as the method in the superclass. \n",
    "The subclass can modify or extend the behavior of the inherited method."
   ]
  },
  {
   "cell_type": "code",
   "execution_count": 16,
   "id": "1b2abb99",
   "metadata": {},
   "outputs": [],
   "source": [
    "class Animal:\n",
    "    def make_sound(self):\n",
    "        return \"Generic animal sound\"\n",
    "\n",
    "\n",
    "class Dog(Animal):\n",
    "    def make_sound(self):\n",
    "        return \"Bark bark!\"\n",
    "\n",
    "\n",
    "class Cat(Animal):\n",
    "    def make_sound(self):\n",
    "        return \"Meow meow!\""
   ]
  },
  {
   "cell_type": "code",
   "execution_count": 17,
   "id": "0d7d2d64",
   "metadata": {},
   "outputs": [],
   "source": [
    "animal = Animal()"
   ]
  },
  {
   "cell_type": "code",
   "execution_count": 18,
   "id": "7f82a008",
   "metadata": {},
   "outputs": [
    {
     "data": {
      "text/plain": [
       "'Generic animal sound'"
      ]
     },
     "execution_count": 18,
     "metadata": {},
     "output_type": "execute_result"
    }
   ],
   "source": [
    "animal.make_sound()"
   ]
  },
  {
   "cell_type": "code",
   "execution_count": 19,
   "id": "220a11da",
   "metadata": {},
   "outputs": [],
   "source": [
    "dog = Dog()"
   ]
  },
  {
   "cell_type": "code",
   "execution_count": 20,
   "id": "58b8584a",
   "metadata": {},
   "outputs": [
    {
     "data": {
      "text/plain": [
       "'Bark bark!'"
      ]
     },
     "execution_count": 20,
     "metadata": {},
     "output_type": "execute_result"
    }
   ],
   "source": [
    "dog.make_sound()"
   ]
  },
  {
   "cell_type": "code",
   "execution_count": 21,
   "id": "5143fc2e",
   "metadata": {},
   "outputs": [],
   "source": [
    "cat = Cat()"
   ]
  },
  {
   "cell_type": "code",
   "execution_count": 22,
   "id": "f6c2d2be",
   "metadata": {},
   "outputs": [
    {
     "data": {
      "text/plain": [
       "'Meow meow!'"
      ]
     },
     "execution_count": 22,
     "metadata": {},
     "output_type": "execute_result"
    }
   ],
   "source": [
    "cat.make_sound()"
   ]
  },
  {
   "cell_type": "code",
   "execution_count": null,
   "id": "2f2c41f9",
   "metadata": {},
   "outputs": [],
   "source": []
  }
 ],
 "metadata": {
  "kernelspec": {
   "display_name": "Python 3 (ipykernel)",
   "language": "python",
   "name": "python3"
  },
  "language_info": {
   "codemirror_mode": {
    "name": "ipython",
    "version": 3
   },
   "file_extension": ".py",
   "mimetype": "text/x-python",
   "name": "python",
   "nbconvert_exporter": "python",
   "pygments_lexer": "ipython3",
   "version": "3.11.0"
  }
 },
 "nbformat": 4,
 "nbformat_minor": 5
}
