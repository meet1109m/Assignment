{
 "cells": [
  {
   "cell_type": "markdown",
   "id": "064c6c95-22dd-49f3-8905-b02783dc7d39",
   "metadata": {},
   "source": [
    "1. Write a program to accept percentage from the user and display the grade according to the following "
   ]
  },
  {
   "cell_type": "raw",
   "id": "9c643578-9e1d-49b5-95b9-42154baacad0",
   "metadata": {},
   "source": [
    "Marks           Grade \n",
    ">90              A \n",
    ">80 and <=90     B \n",
    ">=60 and <=80    C \n",
    "below 60         D \n"
   ]
  },
  {
   "cell_type": "code",
   "execution_count": 2,
   "id": "bbae74ea-ac5e-46b9-b391-2a752596aa57",
   "metadata": {},
   "outputs": [
    {
     "name": "stdin",
     "output_type": "stream",
     "text": [
      "Enter your percentage :  90\n"
     ]
    },
    {
     "name": "stdout",
     "output_type": "stream",
     "text": [
      "Your grade is B\n"
     ]
    }
   ],
   "source": [
    "marks = int(input(\"Enter your percentage : \"))\n",
    "\n",
    "if marks > 90:\n",
    "    print(\"Your grade is A\")\n",
    "elif marks > 80 and marks <= 90:\n",
    "    print(\"Your grade is B\")\n",
    "elif marks >= 60 and marks <= 80:\n",
    "    print(\"Your grade is C\")\n",
    "else:\n",
    "    print(\"Your grade is D\")"
   ]
  },
  {
   "cell_type": "markdown",
   "id": "6c322d11-1c7d-45cb-8969-69cf29dcb6ec",
   "metadata": {},
   "source": []
  },
  {
   "cell_type": "markdown",
   "id": "8c12b421-8634-431e-b635-3f33ca41a0fe",
   "metadata": {},
   "source": [
    "2. Write a program to accept the cost price of a bike and display the road tax to be paid according to the \n",
    "following criteria:"
   ]
  },
  {
   "cell_type": "raw",
   "id": "4caf71f5-9d93-4024-bbc4-cf76ca7e16bd",
   "metadata": {},
   "source": [
    "Tax    Cost Price(in Rs)\n",
    "15%     >100000\n",
    "10%     50000 and <= 100000 \n",
    "5%      <= 50000 \n"
   ]
  },
  {
   "cell_type": "code",
   "execution_count": 5,
   "id": "15666ee8-edf2-4e14-a2bc-9c6a06fe281a",
   "metadata": {},
   "outputs": [
    {
     "name": "stdin",
     "output_type": "stream",
     "text": [
      "Enter the cost price :  100000\n"
     ]
    },
    {
     "name": "stdout",
     "output_type": "stream",
     "text": [
      "Your road tax is 10%\n"
     ]
    }
   ],
   "source": [
    "cp = int(input(\"Enter the cost price : \"))\n",
    "\n",
    "if cp > 100000:\n",
    "    print(\"Your road tax is 15%\")\n",
    "elif cp > 50000 and marks <= 100000:\n",
    "    print(\"Your road tax is 10%\")\n",
    "else:\n",
    "    print(\"Your road tax is 5%\")"
   ]
  },
  {
   "cell_type": "markdown",
   "id": "cc5f58d4-94d4-41ec-b0e5-346a64314106",
   "metadata": {},
   "source": [
    "3. Accept any city from the user and display monuments of that city. "
   ]
  },
  {
   "cell_type": "raw",
   "id": "de997fc3-e9ec-4cb0-ab5a-4630e121102b",
   "metadata": {},
   "source": [
    "City   Monument\n",
    "Delhi   Red Fort \n",
    "Agra    Taj Mahal\n",
    "Jaipur  Jal Mahal\n",
    " "
   ]
  },
  {
   "cell_type": "code",
   "execution_count": 7,
   "id": "4acdc454-0585-4501-b14b-20b16b69b040",
   "metadata": {},
   "outputs": [
    {
     "name": "stdin",
     "output_type": "stream",
     "text": [
      "Enter the city :  Delhi\n"
     ]
    },
    {
     "name": "stdout",
     "output_type": "stream",
     "text": [
      "Red Fort\n"
     ]
    }
   ],
   "source": [
    "city = input(\"Enter the city : \")\n",
    "if city == \"Delhi\":\n",
    "    print(\"Red Fort\")\n",
    "elif city == \"Agra\":\n",
    "    print(\"Taj Mahal\")\n",
    "elif city == \"Jaipur\":\n",
    "    print(\"Jai Mahal\")\n",
    "else:\n",
    "    print(\"Enter valid input\")"
   ]
  },
  {
   "cell_type": "code",
   "execution_count": null,
   "id": "220201c6-0789-45e9-9b8e-795e3a4c8e85",
   "metadata": {},
   "outputs": [],
   "source": []
  },
  {
   "cell_type": "markdown",
   "id": "b775f81d-62f8-42bd-a942-fb9272fc2469",
   "metadata": {},
   "source": [
    "4. Check how many times a given number can be divided by 3 before it is less than or equal to 10"
   ]
  },
  {
   "cell_type": "raw",
   "id": "5b06f2a6-0c00-4c96-b305-d809b459de4a",
   "metadata": {},
   "source": [
    "4 times"
   ]
  },
  {
   "cell_type": "markdown",
   "id": "403b21c9-c4f3-4db5-ba6a-454d3f4c2784",
   "metadata": {},
   "source": [
    "5. Why and When to Use while Loop in Python give a detailed description with example \n"
   ]
  },
  {
   "cell_type": "raw",
   "id": "45cd8e37-d9ae-45be-9142-421eff71035e",
   "metadata": {},
   "source": [
    "Python while loop is used to run a block code until a certain condition is met. Here, A while loop evaluates the condition. If the condition evaluates to True , the code inside the while loop is executed.\n"
   ]
  },
  {
   "cell_type": "markdown",
   "id": "5998a856-a481-4f58-a06e-ac240bfe53ee",
   "metadata": {},
   "source": [
    "6. Use nested while loop to print 3 different pattern. "
   ]
  },
  {
   "cell_type": "code",
   "execution_count": 10,
   "id": "ac0e9c0d-abd4-4b5d-b149-a7f08331f866",
   "metadata": {},
   "outputs": [
    {
     "name": "stdout",
     "output_type": "stream",
     "text": [
      "\n",
      "1 \n",
      "2 2 \n",
      "3 3 3 \n",
      "4 4 4 4 \n",
      "5 5 5 5 5 \n"
     ]
    }
   ],
   "source": [
    "rows = 6\n",
    "for i in range(rows):\n",
    "    for j in range(i):\n",
    "        print(i, end=' ')\n",
    "    print('')\n"
   ]
  },
  {
   "cell_type": "code",
   "execution_count": 11,
   "id": "772df9ca-c33f-4889-b8c7-507b5809b3f4",
   "metadata": {},
   "outputs": [
    {
     "name": "stdout",
     "output_type": "stream",
     "text": [
      "\n",
      "* \n",
      "* * \n",
      "* * * \n",
      "* * * * \n",
      "* * * * * \n"
     ]
    }
   ],
   "source": [
    "rows = 6\n",
    "for i in range(rows):\n",
    "    for j in range(i):\n",
    "        print(\"*\", end=' ')\n",
    "    print('')"
   ]
  },
  {
   "cell_type": "code",
   "execution_count": 14,
   "id": "801f7cea-4d16-41e5-8bce-fd61fac0a9b2",
   "metadata": {},
   "outputs": [
    {
     "name": "stdout",
     "output_type": "stream",
     "text": [
      "* * * * * \n",
      "* * * * \n",
      "* * * \n",
      "* * \n",
      "* \n"
     ]
    }
   ],
   "source": [
    "rows = 5\n",
    "for i in range(rows, 0, -1):\n",
    "    for j in range(0, i):\n",
    "        print(\"*\", end=' ')\n",
    "    print(\"\\r\")"
   ]
  },
  {
   "cell_type": "code",
   "execution_count": null,
   "id": "437180c6-639d-4edc-a1e4-f809d6ea5c6c",
   "metadata": {},
   "outputs": [],
   "source": []
  },
  {
   "cell_type": "markdown",
   "id": "3a5b5358-da90-4948-8a50-74e84904ccc6",
   "metadata": {},
   "source": [
    "7. Reverse a while loop to display numbers from 10 to 1"
   ]
  },
  {
   "cell_type": "code",
   "execution_count": 16,
   "id": "b84ea55a-b642-47e2-bb1b-9c7123412db0",
   "metadata": {},
   "outputs": [
    {
     "name": "stdout",
     "output_type": "stream",
     "text": [
      "10\n",
      "9\n",
      "8\n",
      "7\n",
      "6\n",
      "5\n",
      "4\n",
      "3\n",
      "2\n",
      "1\n"
     ]
    }
   ],
   "source": [
    "count = 10\n",
    "while count > 0:\n",
    "    print(count)\n",
    "    count -= 1\n"
   ]
  },
  {
   "cell_type": "code",
   "execution_count": null,
   "id": "09c27f91-6dde-4e93-9bc8-5d217a326202",
   "metadata": {},
   "outputs": [],
   "source": []
  },
  {
   "cell_type": "markdown",
   "id": "5586a5a8-3ead-4056-ae7d-12d63dedd3bd",
   "metadata": {},
   "source": [
    "8. Reverse a while loop to display numbers from 10 to 1"
   ]
  },
  {
   "cell_type": "code",
   "execution_count": 18,
   "id": "f34d1705-8fc5-4005-8022-5ed4a3e523b0",
   "metadata": {},
   "outputs": [
    {
     "name": "stdout",
     "output_type": "stream",
     "text": [
      "10\n",
      "9\n",
      "8\n",
      "7\n",
      "6\n",
      "5\n",
      "4\n",
      "3\n",
      "2\n",
      "1\n"
     ]
    }
   ],
   "source": [
    "count = 10\n",
    "while count > 0:\n",
    "    print(count)\n",
    "    count -= 1\n"
   ]
  },
  {
   "cell_type": "code",
   "execution_count": null,
   "id": "5ffbe046-5bd9-4931-b95f-6529d3bf9079",
   "metadata": {},
   "outputs": [],
   "source": []
  }
 ],
 "metadata": {
  "kernelspec": {
   "display_name": "Python 3 (ipykernel)",
   "language": "python",
   "name": "python3"
  },
  "language_info": {
   "codemirror_mode": {
    "name": "ipython",
    "version": 3
   },
   "file_extension": ".py",
   "mimetype": "text/x-python",
   "name": "python",
   "nbconvert_exporter": "python",
   "pygments_lexer": "ipython3",
   "version": "3.10.8"
  }
 },
 "nbformat": 4,
 "nbformat_minor": 5
}
