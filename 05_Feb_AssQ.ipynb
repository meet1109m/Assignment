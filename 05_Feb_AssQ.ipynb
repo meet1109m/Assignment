{
 "cells": [
  {
   "cell_type": "markdown",
   "id": "2cb81606",
   "metadata": {},
   "source": [
    "Q1. Explain Class and Object with respect to Object-Oriented Programming. Give a suitable example."
   ]
  },
  {
   "cell_type": "raw",
   "id": "d12f596c",
   "metadata": {},
   "source": [
    "In object-oriented programming (OOP), a class is a blueprint or template for creating objects. \n",
    "It defines the attributes (data) and behaviors (methods) that the objects of that class will have. \n",
    "The class acts as a blueprint that encapsulates related data and functionality into a single entity.\n",
    "\n",
    "An object, on the other hand, is an instance of a class. \n",
    "It represents a specific occurrence or realization of the class. \n",
    "Objects are created from the class and can access the attributes and methods defined within the class."
   ]
  },
  {
   "cell_type": "code",
   "execution_count": 1,
   "id": "1a65d21c",
   "metadata": {},
   "outputs": [],
   "source": [
    "class student :\n",
    "    def __init__(self, name, std_id):\n",
    "        self.name = name\n",
    "        self.std_id = std_id\n",
    "    def student_details(self):\n",
    "        return self.name , self.std_id"
   ]
  },
  {
   "cell_type": "code",
   "execution_count": 2,
   "id": "8a91cdcc",
   "metadata": {},
   "outputs": [],
   "source": [
    "meet = student(\"Meet\", 101)"
   ]
  },
  {
   "cell_type": "code",
   "execution_count": 3,
   "id": "9e8e9fdd",
   "metadata": {},
   "outputs": [
    {
     "data": {
      "text/plain": [
       "('Meet', 101)"
      ]
     },
     "execution_count": 3,
     "metadata": {},
     "output_type": "execute_result"
    }
   ],
   "source": [
    "meet.student_details()"
   ]
  },
  {
   "cell_type": "code",
   "execution_count": null,
   "id": "f1ec2e62",
   "metadata": {},
   "outputs": [],
   "source": []
  },
  {
   "cell_type": "markdown",
   "id": "ae8fbc17",
   "metadata": {},
   "source": [
    "Q2. Name the four pillars of OOPs."
   ]
  },
  {
   "cell_type": "raw",
   "id": "45e3b40b",
   "metadata": {},
   "source": [
    "The four pillars of object-oriented programming (OOP):\n",
    "\n",
    "Encapsulation\n",
    "Inheritance\n",
    "Polymorphism\n",
    "Abstraction"
   ]
  },
  {
   "cell_type": "code",
   "execution_count": null,
   "id": "7f519f1f",
   "metadata": {},
   "outputs": [],
   "source": []
  },
  {
   "cell_type": "markdown",
   "id": "40748830",
   "metadata": {},
   "source": [
    "Q3. Explain why the __init__() function is used. Give a suitable example."
   ]
  },
  {
   "cell_type": "raw",
   "id": "99ed1525",
   "metadata": {},
   "source": [
    "The __init__() function is a special method in Python that is used as a constructor for initializing the attributes of an object when it is created from a class. \n",
    "It is automatically called when an object is instantiated from the class. \n",
    "The purpose of the __init__() function is to set up the initial state of an object by assigning values to its attributes."
   ]
  },
  {
   "cell_type": "code",
   "execution_count": 4,
   "id": "f7f204cd",
   "metadata": {},
   "outputs": [],
   "source": [
    "class Person:\n",
    "    def __init__(self, name, age):\n",
    "        self.name = name\n",
    "        self.age = age\n",
    "        \n",
    "    def display_info(self):\n",
    "        print(f\"Name: {self.name}\")\n",
    "        print(f\"Age: {self.age}\")"
   ]
  },
  {
   "cell_type": "code",
   "execution_count": 5,
   "id": "a6abb72d",
   "metadata": {},
   "outputs": [
    {
     "name": "stdout",
     "output_type": "stream",
     "text": [
      "Name: Devraj\n",
      "Age: 22\n"
     ]
    }
   ],
   "source": [
    "devraj = Person(\"Devraj\", 22)\n",
    "\n",
    "devraj.display_info()"
   ]
  },
  {
   "cell_type": "code",
   "execution_count": null,
   "id": "e977249b",
   "metadata": {},
   "outputs": [],
   "source": []
  },
  {
   "cell_type": "markdown",
   "id": "fe236de4",
   "metadata": {},
   "source": [
    "Q4. Why self is used in OOPs?"
   ]
  },
  {
   "cell_type": "raw",
   "id": "1c5c897b",
   "metadata": {},
   "source": [
    "self is used in OOP to refer to the instance (object) of a class.\n",
    "It allows methods to access and manipulate the object's attributes and call its methods.\n",
    "It helps in distinguishing one object from another and ensures proper identification.\n",
    "Using self is a convention that promotes code clarity and readability."
   ]
  },
  {
   "cell_type": "code",
   "execution_count": null,
   "id": "141e32d8",
   "metadata": {},
   "outputs": [],
   "source": []
  },
  {
   "cell_type": "markdown",
   "id": "953772af",
   "metadata": {},
   "source": [
    "Q5. What is inheritance? Give an example for each type of inheritance."
   ]
  },
  {
   "cell_type": "raw",
   "id": "b002dd1a",
   "metadata": {},
   "source": [
    "Inheritance is a fundamental concept in object-oriented programming (OOP) that allows one class to inherit the properties and methods of another class. \n",
    "The class that is being inherited from is called the \"parent class,\" and the class that inherits from it is called the \"child class\"."
   ]
  },
  {
   "cell_type": "code",
   "execution_count": 6,
   "id": "c2cb2470",
   "metadata": {},
   "outputs": [
    {
     "data": {
      "text/plain": [
       "'This is property of father'"
      ]
     },
     "execution_count": 6,
     "metadata": {},
     "output_type": "execute_result"
    }
   ],
   "source": [
    "# single inheritence\n",
    "\n",
    "class father:\n",
    "    def father_func(self):\n",
    "        return \"This is property of father\"\n",
    "class son(father):\n",
    "    pass\n",
    "son_obj = son()\n",
    "son_obj.father_func()"
   ]
  },
  {
   "cell_type": "code",
   "execution_count": 7,
   "id": "27c69a36",
   "metadata": {},
   "outputs": [
    {
     "data": {
      "text/plain": [
       "\"This is father's property\""
      ]
     },
     "execution_count": 7,
     "metadata": {},
     "output_type": "execute_result"
    }
   ],
   "source": [
    "# Multilevel inheritence\n",
    "\n",
    "class grandfather:\n",
    "    def grand_func(self):\n",
    "        return \"This is Grand father's property\"\n",
    "class father(grandfather):\n",
    "    def father_func(self):\n",
    "        return \"This is father's property\"\n",
    "class son(father):\n",
    "    pass\n",
    "son_obj = son()\n",
    "son_obj.father_func()"
   ]
  },
  {
   "cell_type": "code",
   "execution_count": 8,
   "id": "c35a513d",
   "metadata": {},
   "outputs": [
    {
     "data": {
      "text/plain": [
       "\"This is Grand father's property\""
      ]
     },
     "execution_count": 8,
     "metadata": {},
     "output_type": "execute_result"
    }
   ],
   "source": [
    "son_obj.grand_func()"
   ]
  },
  {
   "cell_type": "code",
   "execution_count": 9,
   "id": "1977b2ea",
   "metadata": {},
   "outputs": [
    {
     "data": {
      "text/plain": [
       "\"This is father's property\""
      ]
     },
     "execution_count": 9,
     "metadata": {},
     "output_type": "execute_result"
    }
   ],
   "source": [
    "# Multiple inheritence\n",
    "\n",
    "class father:\n",
    "    def father_func(self):\n",
    "        return \"This is father's property\"\n",
    "class mother:\n",
    "    def mother_func(self):\n",
    "        return \"This is mother's property\"\n",
    "class son(father, mother):\n",
    "    pass\n",
    "\n",
    "son_obj = son()\n",
    "son_obj.father_func()"
   ]
  },
  {
   "cell_type": "code",
   "execution_count": 10,
   "id": "d952fdfa",
   "metadata": {},
   "outputs": [
    {
     "data": {
      "text/plain": [
       "\"This is mother's property\""
      ]
     },
     "execution_count": 10,
     "metadata": {},
     "output_type": "execute_result"
    }
   ],
   "source": [
    "son_obj.mother_func()"
   ]
  },
  {
   "cell_type": "code",
   "execution_count": null,
   "id": "a80632dc",
   "metadata": {},
   "outputs": [],
   "source": []
  }
 ],
 "metadata": {
  "kernelspec": {
   "display_name": "Python 3 (ipykernel)",
   "language": "python",
   "name": "python3"
  },
  "language_info": {
   "codemirror_mode": {
    "name": "ipython",
    "version": 3
   },
   "file_extension": ".py",
   "mimetype": "text/x-python",
   "name": "python",
   "nbconvert_exporter": "python",
   "pygments_lexer": "ipython3",
   "version": "3.11.0"
  }
 },
 "nbformat": 4,
 "nbformat_minor": 5
}
