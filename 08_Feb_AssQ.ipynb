{
 "cells": [
  {
   "cell_type": "markdown",
   "id": "f75a3d4e",
   "metadata": {},
   "source": [
    "Q1. What is Abstraction in OOps? Explain with an example."
   ]
  },
  {
   "cell_type": "raw",
   "id": "f90085b5",
   "metadata": {},
   "source": [
    "Abstraction is a fundamental concept that allows us to represent complex real-world entities as simplified models within our code. \n",
    "It involves identifying and focusing on the essential characteristics and behaviors of an object while ignoring the irrelevant details."
   ]
  },
  {
   "cell_type": "code",
   "execution_count": 1,
   "id": "a9220eb2",
   "metadata": {},
   "outputs": [],
   "source": [
    "class Book:\n",
    "    def __init__(self, title, author, isbn):\n",
    "        self.title = title\n",
    "        self.author = author\n",
    "        self.isbn = isbn\n",
    "\n",
    "    def display_info(self):\n",
    "        print(\"Title:\", self.title)\n",
    "        print(\"Author:\", self.author)\n",
    "        print(\"ISBN:\", self.isbn)"
   ]
  },
  {
   "cell_type": "code",
   "execution_count": 2,
   "id": "29be2da5",
   "metadata": {},
   "outputs": [],
   "source": [
    "book1 = Book(\"Bhagavad Gita\", \"Vyasa\", \"978-1234567890\")"
   ]
  },
  {
   "cell_type": "code",
   "execution_count": 3,
   "id": "ad4d4721",
   "metadata": {},
   "outputs": [
    {
     "name": "stdout",
     "output_type": "stream",
     "text": [
      "Title: Bhagavad Gita\n",
      "Author: Vyasa\n",
      "ISBN: 978-1234567890\n"
     ]
    }
   ],
   "source": [
    "book1.display_info()"
   ]
  },
  {
   "cell_type": "code",
   "execution_count": null,
   "id": "386be639",
   "metadata": {},
   "outputs": [],
   "source": []
  },
  {
   "cell_type": "markdown",
   "id": "e43cf478",
   "metadata": {},
   "source": [
    "Q2. Differentiate between Abstraction and Encapsulation. Explain with an example."
   ]
  },
  {
   "cell_type": "raw",
   "id": "8a9a7256",
   "metadata": {},
   "source": [
    "Abstraction:\n",
    "Abstraction is the process of simplifying complex real-world entities into a more understandable representation within the code. It focuses on the essential characteristics and behaviors of an object while hiding the irrelevant details. \n",
    "Abstraction allows us to work at a higher level of understanding by dealing with concepts and functionality rather than low-level implementation details."
   ]
  },
  {
   "cell_type": "code",
   "execution_count": 4,
   "id": "c2965fab",
   "metadata": {},
   "outputs": [],
   "source": [
    "class Car:\n",
    "    def start_engine(self):\n",
    "        print(\"Engine started\")\n",
    "\n",
    "    def accelerate(self):\n",
    "        print(\"Car is accelerating\")\n",
    "\n",
    "    def brake(self):\n",
    "        print(\"Car is braking\")\n",
    "\n",
    "    def change_gear(self, gear):\n",
    "        print(\"Changed gear to\", gear)"
   ]
  },
  {
   "cell_type": "code",
   "execution_count": 5,
   "id": "21ea48b7",
   "metadata": {},
   "outputs": [],
   "source": [
    "car = Car()"
   ]
  },
  {
   "cell_type": "code",
   "execution_count": 6,
   "id": "05b58e80",
   "metadata": {},
   "outputs": [
    {
     "name": "stdout",
     "output_type": "stream",
     "text": [
      "Engine started\n"
     ]
    }
   ],
   "source": [
    "car.start_engine()"
   ]
  },
  {
   "cell_type": "code",
   "execution_count": 7,
   "id": "ca7a5924",
   "metadata": {},
   "outputs": [
    {
     "name": "stdout",
     "output_type": "stream",
     "text": [
      "Car is accelerating\n"
     ]
    }
   ],
   "source": [
    "car.accelerate()"
   ]
  },
  {
   "cell_type": "code",
   "execution_count": 8,
   "id": "96838743",
   "metadata": {},
   "outputs": [
    {
     "name": "stdout",
     "output_type": "stream",
     "text": [
      "Changed gear to 3\n"
     ]
    }
   ],
   "source": [
    "car.change_gear(3)"
   ]
  },
  {
   "cell_type": "code",
   "execution_count": 9,
   "id": "c7f5ed6a",
   "metadata": {},
   "outputs": [
    {
     "name": "stdout",
     "output_type": "stream",
     "text": [
      "Car is braking\n"
     ]
    }
   ],
   "source": [
    "car.brake()"
   ]
  },
  {
   "cell_type": "raw",
   "id": "c38ca85a",
   "metadata": {},
   "source": [
    "Encapsulation:\n",
    "Encapsulation is the process of bundling data and the methods that operate on that data together into a single unit, known as a class. \n",
    "It provides a way to hide the internal details of an object and only expose a controlled interface for interacting with the object. \n",
    "Encapsulation ensures that the data and methods are kept together, protecting the integrity and consistency of the object's state."
   ]
  },
  {
   "cell_type": "code",
   "execution_count": 10,
   "id": "7010e375",
   "metadata": {},
   "outputs": [],
   "source": [
    "class BankAccount:\n",
    "    def __init__(self, account_number):\n",
    "        self.account_number = account_number\n",
    "        self.balance = 0\n",
    "\n",
    "    def deposit(self, amount):\n",
    "        self.balance += amount\n",
    "        print(\"Deposited\", amount)\n",
    "\n",
    "    def withdraw(self, amount):\n",
    "        if self.balance >= amount:\n",
    "            self.balance -= amount\n",
    "            print(\"Withdrawn\", amount)\n",
    "        else:\n",
    "            print(\"Insufficient balance\")\n",
    "\n",
    "    def get_balance(self):\n",
    "        return self.balance"
   ]
  },
  {
   "cell_type": "code",
   "execution_count": 11,
   "id": "e6b16ab2",
   "metadata": {},
   "outputs": [],
   "source": [
    "account = BankAccount(\"123456789\")"
   ]
  },
  {
   "cell_type": "code",
   "execution_count": 12,
   "id": "ce93389c",
   "metadata": {},
   "outputs": [
    {
     "name": "stdout",
     "output_type": "stream",
     "text": [
      "Deposited 1000\n"
     ]
    }
   ],
   "source": [
    "account.deposit(1000)"
   ]
  },
  {
   "cell_type": "code",
   "execution_count": 13,
   "id": "fecde5a1",
   "metadata": {},
   "outputs": [
    {
     "name": "stdout",
     "output_type": "stream",
     "text": [
      "Withdrawn 500\n"
     ]
    }
   ],
   "source": [
    "account.withdraw(500)"
   ]
  },
  {
   "cell_type": "code",
   "execution_count": 14,
   "id": "9c658077",
   "metadata": {},
   "outputs": [],
   "source": [
    "balance = account.get_balance()"
   ]
  },
  {
   "cell_type": "code",
   "execution_count": 15,
   "id": "55198128",
   "metadata": {},
   "outputs": [
    {
     "name": "stdout",
     "output_type": "stream",
     "text": [
      "Account balance: 500\n"
     ]
    }
   ],
   "source": [
    "print(\"Account balance:\", balance)"
   ]
  },
  {
   "cell_type": "code",
   "execution_count": null,
   "id": "dfaa0832",
   "metadata": {},
   "outputs": [],
   "source": []
  },
  {
   "cell_type": "markdown",
   "id": "e717f9e6",
   "metadata": {},
   "source": [
    "Q3. What is abc module in python? Why is it used?"
   ]
  },
  {
   "cell_type": "raw",
   "id": "1d6debe0",
   "metadata": {},
   "source": [
    "The abc module stands for \"Abstract Base Classes.\" It provides a way to define abstract base classes in Python and allows for the creation of interfaces that subclasses can adhere to. \n",
    "Abstract base classes provide a form of structural contracts, ensuring that subclasses implement certain methods or adhere to a specific interface.\n",
    "\n",
    "The abc module is used for several purposes:\n",
    "\n",
    "Defining Abstract Base Classes (ABCs): The abc module provides the ABC class and the abstractmethod decorator, which allows you to define abstract methods within a class. An abstract method is a method without an implementation. Subclasses of an ABC must override and provide an implementation for all the abstract methods defined in the base class.\n",
    "\n",
    "Enforcing Subclass Conformance: By defining abstract base classes, you can enforce that subclasses conform to a specific interface or implement certain methods. If a subclass fails to provide an implementation for an abstract method, attempting to instantiate the subclass will result in a TypeError being raised.\n",
    "\n",
    "Polymorphism and Duck Typing: Abstract base classes provide a way to achieve polymorphism in Python. You can write code that operates on abstract base classes, allowing different concrete implementations to be used interchangeably as long as they adhere to the interface defined by the abstract base class. This promotes the principle of \"duck typing,\" where the focus is on the behavior of an object rather than its specific type."
   ]
  },
  {
   "cell_type": "code",
   "execution_count": null,
   "id": "c3e3a79e",
   "metadata": {},
   "outputs": [],
   "source": []
  },
  {
   "cell_type": "markdown",
   "id": "6d115f22",
   "metadata": {},
   "source": [
    "Q4. How can we achieve data abstraction?"
   ]
  },
  {
   "cell_type": "raw",
   "id": "1c928a75",
   "metadata": {},
   "source": [
    "We can achieve data abstraction using several techniques. Here are three common approaches:\n",
    "\n",
    "Classes and Objects:\n",
    "One of the fundamental principles of object-oriented programming is encapsulation, which enables data abstraction. By defining classes, we can encapsulate data (attributes) and the methods (functions) that operate on that data. Access to the data is controlled through methods, providing an abstraction layer that hides the internal implementation details. Users of the class only need to interact with the defined methods, without directly accessing or modifying the underlying data.\n",
    "\n",
    "Properties:\n",
    "Properties in Python allow us to define getter and setter methods for class attributes, providing a way to control access to the data. By using properties, we can enforce data abstraction by providing controlled access to the attributes, ensuring that users of the class interact with the data in a specific manner. Properties allow us to perform additional operations or validations when accessing or modifying the data, without requiring changes to the existing code that uses the class.\n",
    "\n",
    "Modules and Packages:\n",
    "Python's modular structure allows for achieving data abstraction by organizing related data and functions into separate modules and packages. By importing and using modules, we can abstract away the details of how the data is defined or processed, focusing on the functionality and high-level interactions. Modules and packages promote code modularity, reusability, and maintainability by separating concerns and providing well-defined interfaces for accessing and manipulating data."
   ]
  },
  {
   "cell_type": "code",
   "execution_count": null,
   "id": "fc00c87e",
   "metadata": {},
   "outputs": [],
   "source": []
  },
  {
   "cell_type": "markdown",
   "id": "f5883dee",
   "metadata": {},
   "source": [
    "Q5. Can we create an instance of an abstract class? Explain your answer."
   ]
  },
  {
   "cell_type": "raw",
   "id": "e5d6ca1d",
   "metadata": {},
   "source": [
    "No, we cannot create an instance of an abstract class in Python. An abstract class is a class that is meant to be subclassed and provides a blueprint for other classes to inherit from. It is designed to be incomplete and serves as a template for subclasses to implement the abstract methods defined within it.\n",
    "\n",
    "In Python, abstract classes are created using the 'abc' module and the ABC class. The ABC class is a metaclass that allows us to define abstract methods using the @abstractmethod decorator. An abstract method is a method without an implementation, and it must be overridden and implemented by the subclasses.\n",
    "\n",
    "Attempting to instantiate an abstract class directly will result in a TypeError being raised, indicating that the abstract class cannot be instantiated."
   ]
  },
  {
   "cell_type": "code",
   "execution_count": null,
   "id": "e6ceeda9",
   "metadata": {},
   "outputs": [],
   "source": []
  }
 ],
 "metadata": {
  "kernelspec": {
   "display_name": "Python 3 (ipykernel)",
   "language": "python",
   "name": "python3"
  },
  "language_info": {
   "codemirror_mode": {
    "name": "ipython",
    "version": 3
   },
   "file_extension": ".py",
   "mimetype": "text/x-python",
   "name": "python",
   "nbconvert_exporter": "python",
   "pygments_lexer": "ipython3",
   "version": "3.11.0"
  }
 },
 "nbformat": 4,
 "nbformat_minor": 5
}
